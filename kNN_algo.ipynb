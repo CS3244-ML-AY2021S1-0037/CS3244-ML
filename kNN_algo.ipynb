{
 "cells": [
  {
   "cell_type": "markdown",
   "metadata": {},
   "source": [
    "# Retrieve from preprocessed data"
   ]
  },
  {
   "cell_type": "code",
   "execution_count": null,
   "metadata": {},
   "outputs": [],
   "source": [
    "print(1)"
   ]
  },
  {
   "cell_type": "code",
   "execution_count": 1,
   "metadata": {},
   "outputs": [
    {
     "name": "stdout",
     "output_type": "stream",
     "text": [
      "Processed image count: 0\n",
      "Processed image count: 500\n",
      "Processed image count: 1000\n",
      "Processed image count: 1500\n",
      "Processed image count: 2000\n",
      "Processed image count: 2500\n",
      "Done\n",
      "(3000, 10)\n",
      "(3000, 30000)\n"
     ]
    }
   ],
   "source": [
    "import csv\n",
    "from matplotlib import pyplot as plt\n",
    "import numpy as np\n",
    "from skimage import io\n",
    "from skimage.transform import rescale, resize\n",
    "\n",
    "\n",
    "# save numpy array as csv file\n",
    "from numpy import asarray\n",
    "from numpy import savetxt\n",
    "\n",
    "\n",
    "# Top 10 Genres in descending order:  \n",
    "top_genres = ['Drama', 'Comedy', 'Romance', 'Action', 'Crime', 'Thriller','Horror', 'Adventure', 'Documentary', 'Mystery']\n",
    "num_of_genres = len(top_genres)\n",
    "# The useful outputs are saved in the lists below\n",
    "\n",
    "# 1-d vectors\n",
    "poster_ids = []\n",
    "scores = [] \n",
    "genres = [] # dimension: n x 10\n",
    "\n",
    "# contains np array of dim(100,100,3) for each input\n",
    "images = [] \n",
    "\n",
    "# flatten_images is used for kNN since it only accepts 2d array \n",
    "flatten_images = []\n",
    "sample_count = 0\n",
    "resized_dim = (100, 100)\n",
    "\n",
    "# set to 500 first \n",
    "sample_size = 3000\n",
    "with open('ProcessedData.csv') as csv_file:\n",
    "    csv_reader = csv.reader(csv_file, delimiter=',')\n",
    "    for row in csv_reader:\n",
    "        if sample_count >= sample_size:\n",
    "            break\n",
    "        \n",
    "        pid = row[0]\n",
    "        score = row[1]\n",
    "        genre = row[2]\n",
    "        genre_vector = []\n",
    "        \n",
    "        \n",
    "        # create label vector\n",
    "        for i in range(0, len(top_genres)):\n",
    "            if top_genres[i] in genre:\n",
    "                genre_vector.append(1)\n",
    "            else:\n",
    "                genre_vector.append(0)\n",
    "        \n",
    "        try:\n",
    "            filepath = f'./SamplePosters/{pid}.jpg'\n",
    "            image = io.imread(filepath)\n",
    "            image_resized = resize(image, resized_dim)\n",
    "        except:\n",
    "            continue\n",
    "        \n",
    "        # remove greyscale images\n",
    "        if len(image_resized.shape) != 3:\n",
    "            continue\n",
    "        if len(genres) % 500 == 0:\n",
    "            print(f'Processed image count: {len(genres)}')\n",
    "        \n",
    "        poster_ids.append(pid)\n",
    "        scores.append(float(score))\n",
    "        genres.append(genre_vector)\n",
    "        arr = np.array(image_resized)\n",
    "#         images.append(arr)\n",
    "        flatten_images.append(arr.flatten())\n",
    "        sample_count += 1\n",
    "\n",
    "\n",
    "# Debug\n",
    "# define data\n",
    "# data = asarray(flatten_images)\n",
    "# label_data = asarray(genres)\n",
    "# score_data = asarray(scores)\n",
    "# save to csv file\n",
    "# savetxt('knn_data.csv', data, delimiter=',')\n",
    "# savetxt('knn_score.csv', score_data, delimiter=',')\n",
    "# savetxt('knn_label.csv', label_data, delimiter=',')\n",
    "\n",
    "print('Done')\n",
    "print(np.array(genres).shape)\n",
    "print(np.array(flatten_images).shape)"
   ]
  },
  {
   "cell_type": "markdown",
   "metadata": {},
   "source": [
    "# kNN algorithm from sklearn"
   ]
  },
  {
   "cell_type": "code",
   "execution_count": 3,
   "metadata": {},
   "outputs": [
    {
     "name": "stdout",
     "output_type": "stream",
     "text": [
      "Sample Size: 3000\n"
     ]
    }
   ],
   "source": [
    "import numpy as np\n",
    "from numpy.linalg import norm\n",
    "from sklearn.neighbors import KNeighborsClassifier\n",
    "from sklearn.metrics import f1_score, accuracy_score, hamming_loss\n",
    "\n",
    "labels = genres[:3000]\n",
    "data_input = flatten_images[:3000]\n",
    "# We split our data in 80:10:10\n",
    "sample_limit = np.array(labels).shape[0]\n",
    "print(f'Sample Size: {sample_limit}')\n",
    "cutoff = int(0.8 * sample_limit)\n",
    "cutoff2 = int(0.9 * sample_limit)\n",
    "train_images = data_input[:cutoff]\n",
    "train_labels = labels[:cutoff]\n",
    "\n",
    "validation_images = data_input[cutoff:cutoff2]\n",
    "validation_labels = labels[cutoff:cutoff2]\n",
    "\n",
    "test_images = data_input[cutoff2:]\n",
    "test_labels = labels[cutoff2:]\n",
    "\n",
    "def kNN_training(start, end):\n",
    "        for i in range(start, end, 2):\n",
    "            num_of_neighbors = i\n",
    "            neigh = KNeighborsClassifier(n_neighbors=num_of_neighbors)\n",
    "            neigh.fit(train_images, train_labels)\n",
    "            print(f'Training done for {num_of_neighbors} neighbors')\n",
    "            \n",
    "            predicted_labels = neigh.predict(validation_images)\n",
    "                \n",
    "            \n",
    "            score = f1_score(validation_labels, predicted_labels, average='micro', zero_division=1)\n",
    "            h_loss = hamming_loss(validation_labels, predicted_labels)\n",
    "            accuracy = accuracy_score(validation_labels,predicted_labels)\n",
    "            print(f'Hamming loss for {num_of_neighbors} neighbors: {h_loss}')\n",
    "            print(f'F1 micro score for {num_of_neighbors} neighbors: {score}')\n",
    "            print(f'Accuracy score: {accuracy}\\n')\n",
    "            \n",
    "def kNN_test(start, end):\n",
    "        for i in range(start, end, 2):\n",
    "            num_of_neighbors = i\n",
    "            neigh = KNeighborsClassifier(n_neighbors=num_of_neighbors)\n",
    "            neigh.fit(train_images, train_labels)\n",
    "            print(f'Training done for {num_of_neighbors} neighbors')\n",
    "            \n",
    "            predicted_labels = neigh.predict(validation_images)\n",
    "                \n",
    "            \n",
    "            score = f1_score(test_labels, predicted_labels, average='micro', zero_division=1)\n",
    "            h_loss = hamming_loss(test_labels, predicted_labels)\n",
    "            accuracy = accuracy_score(test_labels,predicted_labels)\n",
    "            print(f'Hamming loss for {num_of_neighbors} neighbors: {h_loss}')\n",
    "            print(f'F1 micro score for {num_of_neighbors} neighbors: {score}')\n",
    "            print(f'Accuracy score: {accuracy}\\n')\n",
    "# Results for Sample Size: 452\n",
    "# F1 micro score for 3 neighbors: 0.4352941176470588\n",
    "# F1 macro score for 3 neighbors: 0.32395808525839487\n",
    "# F1 micro score for 5 neighbors: 0.4099378881987578\n",
    "# F1 macro score for 5 neighbors: 0.2586118056172503\n",
    "# F1 micro score for 7 neighbors: 0.4026845637583893\n",
    "# F1 macro score for 7 neighbors: 0.23838656470235414\n",
    "# F1 micro score for 9 neighbors: 0.3611111111111111\n",
    "# F1 macro score for 9 neighbors: 0.20873015873015874\n",
    "# F1 micro score for 11 neighbors: 0.36879432624113473\n",
    "# F1 macro score for 11 neighbors: 0.21000000000000002\n"
   ]
  },
  {
   "cell_type": "code",
   "execution_count": 4,
   "metadata": {},
   "outputs": [
    {
     "name": "stdout",
     "output_type": "stream",
     "text": [
      "Training done for 3 neighbors\n",
      "Hamming loss for 3 neighbors: 0.223\n",
      "F1 micro score for 3 neighbors: 0.32628398791540786\n",
      "Accuracy score: 0.08\n",
      "\n",
      "Training done for 5 neighbors\n",
      "Hamming loss for 5 neighbors: 0.19833333333333333\n",
      "F1 micro score for 5 neighbors: 0.34972677595628415\n",
      "Accuracy score: 0.10333333333333333\n",
      "\n",
      "Training done for 7 neighbors\n",
      "Hamming loss for 7 neighbors: 0.19133333333333333\n",
      "F1 micro score for 7 neighbors: 0.3477272727272727\n",
      "Accuracy score: 0.09666666666666666\n",
      "\n"
     ]
    }
   ],
   "source": [
    "# \n",
    "kNN_training(3, 9)"
   ]
  },
  {
   "cell_type": "code",
   "execution_count": 5,
   "metadata": {},
   "outputs": [
    {
     "name": "stdout",
     "output_type": "stream",
     "text": [
      "Training done for 13 neighbors\n",
      "Hamming loss for 13 neighbors: 0.192\n",
      "F1 micro score for 13 neighbors: 0.3110047846889953\n",
      "Accuracy score: 0.10333333333333333\n",
      "\n",
      "Training done for 15 neighbors\n",
      "Hamming loss for 15 neighbors: 0.18966666666666668\n",
      "F1 micro score for 15 neighbors: 0.31197097944377267\n",
      "Accuracy score: 0.09666666666666666\n",
      "\n",
      "Training done for 25 neighbors\n",
      "Hamming loss for 25 neighbors: 0.18833333333333332\n",
      "F1 micro score for 25 neighbors: 0.31680773881499397\n",
      "Accuracy score: 0.09666666666666666\n",
      "\n"
     ]
    }
   ],
   "source": [
    "kNN_training(13, 16)\n",
    "kNN_training(25, 26)"
   ]
  },
  {
   "cell_type": "code",
   "execution_count": 5,
   "metadata": {},
   "outputs": [
    {
     "name": "stdout",
     "output_type": "stream",
     "text": [
      "Training done for 91 neighbors\n",
      "Hamming loss for 91 neighbors: 0.18233333333333332\n",
      "F1 micro score for 91 neighbors: 0.3449101796407186\n",
      "Accuracy score: 0.11333333333333333\n",
      "\n"
     ]
    }
   ],
   "source": [
    "# kNN_training(35, 36)\n",
    "# kNN_training(45, 46)\n",
    "kNN_training(91, 92)\n"
   ]
  },
  {
   "cell_type": "markdown",
   "metadata": {},
   "source": [
    "## First attempt at random forest"
   ]
  },
  {
   "cell_type": "code",
   "execution_count": null,
   "metadata": {},
   "outputs": [],
   "source": [
    "from sklearn.ensemble import RandomForestClassifier\n",
    "\n",
    "\n",
    "clf_10 = RandomForestClassifier(max_depth=3, random_state=0).fit(train_images, train_labels)\n",
    "rf_predicted_labels = clf_10.predict(validation_images)\n",
    "print('Done training RF')"
   ]
  },
  {
   "cell_type": "code",
   "execution_count": null,
   "metadata": {},
   "outputs": [],
   "source": [
    "# Checks\n",
    "print(rf_predicted_labels[0:15])\n",
    "print('Val labels: ', validation_labels[0:5])\n",
    "score = f1_score(validation_labels, rf_predicted_labels, average='micro', zero_division=1)\n",
    "accuracy = accuracy_score(validation_labels,rf_predicted_labels)\n",
    "print(f'F1 micro score for random forest : {score}')\n",
    "print(f'Accuracy score: {accuracy}')"
   ]
  },
  {
   "cell_type": "markdown",
   "metadata": {},
   "source": [
    "## First attempt at ridge classifier (Disaster)"
   ]
  },
  {
   "cell_type": "code",
   "execution_count": null,
   "metadata": {},
   "outputs": [],
   "source": [
    "# from sklearn.linear_model import RidgeClassifierCV\n",
    "\n",
    "# clf = RidgeClassifierCV(alphas=[1e-3, 1e-2, 1e-1, 1]).fit(train_images, train_labels)\n",
    "\n",
    "# # print(clf.score(train_images, train_labels))\n",
    "\n",
    "# predicted_labels = clf.predict(validation_images)\n",
    "\n",
    "# print(validation_labels[0:3])\n",
    "# print(predicted_labels)\n",
    "\n",
    "# # score = f1_score(validation_labels, predicted_labels, average='micro', zero_division=1)\n",
    "# # print(f'F1 score: {score}')\n",
    "\n",
    "\n"
   ]
  }
 ],
 "metadata": {
  "kernelspec": {
   "display_name": "Python 3",
   "language": "python",
   "name": "python3"
  },
  "language_info": {
   "codemirror_mode": {
    "name": "ipython",
    "version": 3
   },
   "file_extension": ".py",
   "mimetype": "text/x-python",
   "name": "python",
   "nbconvert_exporter": "python",
   "pygments_lexer": "ipython3",
   "version": "3.8.3"
  }
 },
 "nbformat": 4,
 "nbformat_minor": 4
}
