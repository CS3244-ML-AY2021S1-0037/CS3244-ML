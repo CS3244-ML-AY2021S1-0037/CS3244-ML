{
 "cells": [
  {
   "cell_type": "markdown",
   "metadata": {},
   "source": [
    "# Word detection"
   ]
  },
  {
   "cell_type": "markdown",
   "metadata": {},
   "source": [
    "## Libraries required"
   ]
  },
  {
   "cell_type": "code",
   "execution_count": null,
   "metadata": {},
   "outputs": [],
   "source": [
    "# !pip install Pillow\n",
    "# !pip install pytesseract\n",
    "# !pip install opencv-python\n",
    "\n",
    "'''\n",
    "For pytesseract please install exe file in the same folder\n",
    "'''"
   ]
  },
  {
   "cell_type": "code",
   "execution_count": null,
   "metadata": {},
   "outputs": [],
   "source": [
    "try:\n",
    "    from PIL import Image\n",
    "except ImportError:\n",
    "    import Image\n",
    "\n",
    "import pytesseract\n",
    "from pytesseract import Output\n",
    "import urllib.request    \n",
    "import pandas as pd\n",
    "import numpy as np"
   ]
  },
  {
   "cell_type": "code",
   "execution_count": null,
   "metadata": {},
   "outputs": [],
   "source": [
    "pytesseract.pytesseract.tesseract_cmd = 'C:\\\\Program Files\\\\Tesseract-OCR\\\\tesseract.exe'\n",
    "pytesseract.get_tesseract_version()"
   ]
  },
  {
   "cell_type": "code",
   "execution_count": null,
   "metadata": {},
   "outputs": [],
   "source": [
    "# from os import listdir\n",
    "# from os.path import isfile, join\n",
    "# onlyfiles = [f for f in listdir('./') if isfile(join('./', f))]\n",
    "# print(onlyfiles)"
   ]
  },
  {
   "cell_type": "code",
   "execution_count": null,
   "metadata": {},
   "outputs": [],
   "source": [
    "import cv2\n",
    "\n",
    "# get grayscale image\n",
    "def get_grayscale(image):\n",
    "    return cv2.cvtColor(image, cv2.COLOR_BGR2GRAY)\n",
    "\n",
    "# noise removal\n",
    "def remove_noise(image):\n",
    "    return cv2.medianBlur(image,5)\n",
    " \n",
    "#thresholding\n",
    "def thresholding(image):\n",
    "    return cv2.threshold(image, 0, 255, cv2.THRESH_BINARY + cv2.THRESH_OTSU)[1]\n",
    "\n",
    "#dilation\n",
    "def dilate(image):\n",
    "    kernel = np.ones((5,5),np.uint8)\n",
    "    return cv2.dilate(image, kernel, iterations = 1)\n",
    "    \n",
    "#erosion\n",
    "def erode(image):\n",
    "    kernel = np.ones((5,5),np.uint8)\n",
    "    return cv2.erode(image, kernel, iterations = 1)\n",
    "\n",
    "#opening - erosion followed by dilation\n",
    "def opening(image):\n",
    "    kernel = np.ones((5,5),np.uint8)\n",
    "    return cv2.morphologyEx(image, cv2.MORPH_OPEN, kernel)\n",
    "\n",
    "#canny edge detection\n",
    "def canny(image):\n",
    "    return cv2.Canny(image, 100, 200)\n",
    "\n",
    "#skew correction\n",
    "def deskew(image):\n",
    "    coords = np.column_stack(np.where(image > 0))\n",
    "    angle = cv2.minAreaRect(coords)[-1]\n",
    "    if angle < -45:\n",
    "        angle = -(90 + angle)\n",
    "    else:\n",
    "        angle = -angle\n",
    "    (h, w) = image.shape[:2]\n",
    "    center = (w // 2, h // 2)\n",
    "    M = cv2.getRotationMatrix2D(center, angle, 1.0)\n",
    "    rotated = cv2.warpAffine(image, M, (w, h), flags=cv2.INTER_CUBIC, borderMode=cv2.BORDER_REPLICATE)\n",
    "    return rotated\n",
    "\n",
    "#template matching\n",
    "def match_template(image, template):\n",
    "    return cv2.matchTemplate(image, template, cv2.TM_CCOEFF_NORMED) "
   ]
  },
  {
   "cell_type": "code",
   "execution_count": null,
   "metadata": {},
   "outputs": [],
   "source": [
    "def url_to_image(url):\n",
    "    # download the image, convert it to a NumPy array, and then read\n",
    "    # it into OpenCV format\n",
    "    try:\n",
    "        with urllib.request.urlopen(url) as url:\n",
    "            resp = url.read()\n",
    "            image = np.asarray(bytearray(resp), dtype=\"uint8\")\n",
    "            image = cv2.imdecode(image, cv2.IMREAD_COLOR)\n",
    "        # return the image\n",
    "        # print(type(image))\n",
    "            return image\n",
    "    except:\n",
    "        return None\n",
    "\n",
    "movie_poster_data = pd.read_csv('./MovieGenre.csv', encoding = \"ISO-8859-1\")\n",
    "movie_poster_url = movie_poster_data['Poster']\n",
    "movie_poster_url_list = movie_poster_url.tolist()"
   ]
  },
  {
   "cell_type": "code",
   "execution_count": null,
   "metadata": {},
   "outputs": [],
   "source": [
    "image_list = []\n",
    "\n",
    "\n",
    "count = 0\n",
    "for url in movie_poster_url_list:\n",
    "    if count == 100:\n",
    "        break\n",
    "    count += 1\n",
    "#     print(count)\n",
    "    image_list.append(url_to_image(url))"
   ]
  },
  {
   "cell_type": "code",
   "execution_count": null,
   "metadata": {},
   "outputs": [],
   "source": [
    "movie_poster_words = pd.DataFrame()\n",
    "\n",
    "movie_poster_words['imdbId'] = movie_poster_data['imdbId']\n",
    "movie_poster_words['Imdb Link'] = movie_poster_data['Imdb Link']\n",
    "movie_poster_words['Title'] = movie_poster_data['Title']\n",
    "movie_poster_words['Poster'] = movie_poster_data['Poster']\n"
   ]
  },
  {
   "cell_type": "code",
   "execution_count": null,
   "metadata": {},
   "outputs": [],
   "source": [
    "movie_poster_detected_words = []\n",
    "for image in image_list:\n",
    "    word_list = []\n",
    "    try:\n",
    "        d = pytesseract.image_to_data(image, output_type=Output.DICT)['text']\n",
    "#         print(d)\n",
    "        grayed = get_grayscale(image)\n",
    "        threshed = thresholding(grayed)\n",
    "        openinged = opening(grayed)\n",
    "        cannyed = canny(grayed)\n",
    "        grayscale = pytesseract.image_to_data(grayed, output_type=Output.DICT)['text']\n",
    "        threshscale = pytesseract.image_to_data(threshed, output_type=Output.DICT)['text']\n",
    "        openingscale = pytesseract.image_to_data(openinged, output_type=Output.DICT)['text']\n",
    "        cannyscale = pytesseract.image_to_data(cannyed, output_type=Output.DICT)['text']\n",
    "        \n",
    "        word_list += d\n",
    "        word_list += grayscale\n",
    "        word_list += threshscale\n",
    "        word_list += openingscale\n",
    "        word_list += cannyscale\n",
    "        \n",
    "        word_list = set(word_list)\n",
    "        word_list = list(set(word_list))\n",
    "        print(word_list)\n",
    "        movie_poster_detected_words.append(word_list)\n",
    "\n",
    "    except:\n",
    "        list_nothing = ['']\n",
    "        movie_poster_detected_words.append(list_nothing)\n"
   ]
  },
  {
   "cell_type": "code",
   "execution_count": null,
   "metadata": {},
   "outputs": [],
   "source": [
    "movie_poster_words_temp = movie_poster_words.head(100)\n",
    "movie_poster_words_trimmed = movie_poster_words_temp.copy()\n",
    "movie_poster_words_trimmed['detected_words'] = movie_poster_detected_words"
   ]
  },
  {
   "cell_type": "code",
   "execution_count": null,
   "metadata": {},
   "outputs": [],
   "source": [
    "movie_poster_words_trimmed.head(50)"
   ]
  },
  {
   "cell_type": "code",
   "execution_count": null,
   "metadata": {},
   "outputs": [],
   "source": [
    "movie_poster_words_trimmed.to_csv('./pytesseract/movie_poster_detected_words.csv')"
   ]
  }
 ],
 "metadata": {
  "kernelspec": {
   "display_name": "Python 3",
   "language": "python",
   "name": "python3"
  },
  "language_info": {
   "codemirror_mode": {
    "name": "ipython",
    "version": 3
   },
   "file_extension": ".py",
   "mimetype": "text/x-python",
   "name": "python",
   "nbconvert_exporter": "python",
   "pygments_lexer": "ipython3",
   "version": "3.7.3"
  }
 },
 "nbformat": 4,
 "nbformat_minor": 4
}
