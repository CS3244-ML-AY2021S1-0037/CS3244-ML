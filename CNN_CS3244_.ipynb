{
  "nbformat": 4,
  "nbformat_minor": 0,
  "metadata": {
    "colab": {
      "name": "CNN_CS3244 .ipynb",
      "provenance": [],
      "collapsed_sections": [],
      "machine_shape": "hm"
    },
    "kernelspec": {
      "display_name": "Python 3",
      "name": "python3"
    },
    "accelerator": "GPU",
    "widgets": {
      "application/vnd.jupyter.widget-state+json": {
        "52022b9724654915a6c40791280d8774": {
          "model_module": "@jupyter-widgets/controls",
          "model_name": "HBoxModel",
          "state": {
            "_view_name": "HBoxView",
            "_dom_classes": [],
            "_model_name": "HBoxModel",
            "_view_module": "@jupyter-widgets/controls",
            "_model_module_version": "1.5.0",
            "_view_count": null,
            "_view_module_version": "1.5.0",
            "box_style": "",
            "layout": "IPY_MODEL_edcd9f659182401b836c3bb2741ac8c1",
            "_model_module": "@jupyter-widgets/controls",
            "children": [
              "IPY_MODEL_4611e45b9866403db3811233a671d91a",
              "IPY_MODEL_1a7b6d37a5ad4d2b895db17b61c98d42"
            ]
          }
        },
        "edcd9f659182401b836c3bb2741ac8c1": {
          "model_module": "@jupyter-widgets/base",
          "model_name": "LayoutModel",
          "state": {
            "_view_name": "LayoutView",
            "grid_template_rows": null,
            "right": null,
            "justify_content": null,
            "_view_module": "@jupyter-widgets/base",
            "overflow": null,
            "_model_module_version": "1.2.0",
            "_view_count": null,
            "flex_flow": null,
            "width": null,
            "min_width": null,
            "border": null,
            "align_items": null,
            "bottom": null,
            "_model_module": "@jupyter-widgets/base",
            "top": null,
            "grid_column": null,
            "overflow_y": null,
            "overflow_x": null,
            "grid_auto_flow": null,
            "grid_area": null,
            "grid_template_columns": null,
            "flex": null,
            "_model_name": "LayoutModel",
            "justify_items": null,
            "grid_row": null,
            "max_height": null,
            "align_content": null,
            "visibility": null,
            "align_self": null,
            "height": null,
            "min_height": null,
            "padding": null,
            "grid_auto_rows": null,
            "grid_gap": null,
            "max_width": null,
            "order": null,
            "_view_module_version": "1.2.0",
            "grid_template_areas": null,
            "object_position": null,
            "object_fit": null,
            "grid_auto_columns": null,
            "margin": null,
            "display": null,
            "left": null
          }
        },
        "4611e45b9866403db3811233a671d91a": {
          "model_module": "@jupyter-widgets/controls",
          "model_name": "FloatProgressModel",
          "state": {
            "_view_name": "ProgressView",
            "style": "IPY_MODEL_ece8234664284a84b1364f1b35c77332",
            "_dom_classes": [],
            "description": "100%",
            "_model_name": "FloatProgressModel",
            "bar_style": "success",
            "max": 46827520,
            "_view_module": "@jupyter-widgets/controls",
            "_model_module_version": "1.5.0",
            "value": 46827520,
            "_view_count": null,
            "_view_module_version": "1.5.0",
            "orientation": "horizontal",
            "min": 0,
            "description_tooltip": null,
            "_model_module": "@jupyter-widgets/controls",
            "layout": "IPY_MODEL_eff2a88c206f4ba0a81d5fc133c89166"
          }
        },
        "1a7b6d37a5ad4d2b895db17b61c98d42": {
          "model_module": "@jupyter-widgets/controls",
          "model_name": "HTMLModel",
          "state": {
            "_view_name": "HTMLView",
            "style": "IPY_MODEL_f76d046e542046f591d380f9f5b634ad",
            "_dom_classes": [],
            "description": "",
            "_model_name": "HTMLModel",
            "placeholder": "​",
            "_view_module": "@jupyter-widgets/controls",
            "_model_module_version": "1.5.0",
            "value": " 44.7M/44.7M [00:00&lt;00:00, 58.9MB/s]",
            "_view_count": null,
            "_view_module_version": "1.5.0",
            "description_tooltip": null,
            "_model_module": "@jupyter-widgets/controls",
            "layout": "IPY_MODEL_1322cbda63374f8d9d74c494dddf86d4"
          }
        },
        "ece8234664284a84b1364f1b35c77332": {
          "model_module": "@jupyter-widgets/controls",
          "model_name": "ProgressStyleModel",
          "state": {
            "_view_name": "StyleView",
            "_model_name": "ProgressStyleModel",
            "description_width": "initial",
            "_view_module": "@jupyter-widgets/base",
            "_model_module_version": "1.5.0",
            "_view_count": null,
            "_view_module_version": "1.2.0",
            "bar_color": null,
            "_model_module": "@jupyter-widgets/controls"
          }
        },
        "eff2a88c206f4ba0a81d5fc133c89166": {
          "model_module": "@jupyter-widgets/base",
          "model_name": "LayoutModel",
          "state": {
            "_view_name": "LayoutView",
            "grid_template_rows": null,
            "right": null,
            "justify_content": null,
            "_view_module": "@jupyter-widgets/base",
            "overflow": null,
            "_model_module_version": "1.2.0",
            "_view_count": null,
            "flex_flow": null,
            "width": null,
            "min_width": null,
            "border": null,
            "align_items": null,
            "bottom": null,
            "_model_module": "@jupyter-widgets/base",
            "top": null,
            "grid_column": null,
            "overflow_y": null,
            "overflow_x": null,
            "grid_auto_flow": null,
            "grid_area": null,
            "grid_template_columns": null,
            "flex": null,
            "_model_name": "LayoutModel",
            "justify_items": null,
            "grid_row": null,
            "max_height": null,
            "align_content": null,
            "visibility": null,
            "align_self": null,
            "height": null,
            "min_height": null,
            "padding": null,
            "grid_auto_rows": null,
            "grid_gap": null,
            "max_width": null,
            "order": null,
            "_view_module_version": "1.2.0",
            "grid_template_areas": null,
            "object_position": null,
            "object_fit": null,
            "grid_auto_columns": null,
            "margin": null,
            "display": null,
            "left": null
          }
        },
        "f76d046e542046f591d380f9f5b634ad": {
          "model_module": "@jupyter-widgets/controls",
          "model_name": "DescriptionStyleModel",
          "state": {
            "_view_name": "StyleView",
            "_model_name": "DescriptionStyleModel",
            "description_width": "",
            "_view_module": "@jupyter-widgets/base",
            "_model_module_version": "1.5.0",
            "_view_count": null,
            "_view_module_version": "1.2.0",
            "_model_module": "@jupyter-widgets/controls"
          }
        },
        "1322cbda63374f8d9d74c494dddf86d4": {
          "model_module": "@jupyter-widgets/base",
          "model_name": "LayoutModel",
          "state": {
            "_view_name": "LayoutView",
            "grid_template_rows": null,
            "right": null,
            "justify_content": null,
            "_view_module": "@jupyter-widgets/base",
            "overflow": null,
            "_model_module_version": "1.2.0",
            "_view_count": null,
            "flex_flow": null,
            "width": null,
            "min_width": null,
            "border": null,
            "align_items": null,
            "bottom": null,
            "_model_module": "@jupyter-widgets/base",
            "top": null,
            "grid_column": null,
            "overflow_y": null,
            "overflow_x": null,
            "grid_auto_flow": null,
            "grid_area": null,
            "grid_template_columns": null,
            "flex": null,
            "_model_name": "LayoutModel",
            "justify_items": null,
            "grid_row": null,
            "max_height": null,
            "align_content": null,
            "visibility": null,
            "align_self": null,
            "height": null,
            "min_height": null,
            "padding": null,
            "grid_auto_rows": null,
            "grid_gap": null,
            "max_width": null,
            "order": null,
            "_view_module_version": "1.2.0",
            "grid_template_areas": null,
            "object_position": null,
            "object_fit": null,
            "grid_auto_columns": null,
            "margin": null,
            "display": null,
            "left": null
          }
        }
      }
    }
  },
  "cells": [
    {
      "cell_type": "code",
      "metadata": {
        "id": "t1CCUgcPVfrT",
        "outputId": "101571b8-0022-4bd5-dafe-3379088318d5",
        "colab": {
          "base_uri": "https://localhost:8080/"
        }
      },
      "source": [
        "from google.colab import drive\n",
        "drive.mount('/content/drive')"
      ],
      "execution_count": null,
      "outputs": [
        {
          "output_type": "stream",
          "text": [
            "Mounted at /content/drive\n"
          ],
          "name": "stdout"
        }
      ]
    },
    {
      "cell_type": "code",
      "metadata": {
        "id": "CclHyEprVohX",
        "outputId": "ce4818c0-2b78-4f3e-cbe8-8f501099cb63",
        "colab": {
          "base_uri": "https://localhost:8080/"
        }
      },
      "source": [
        "%cd \"/content/drive/My Drive/CS3244-ML\""
      ],
      "execution_count": null,
      "outputs": [
        {
          "output_type": "stream",
          "text": [
            "/content/drive/My Drive/CS3244-ML\n"
          ],
          "name": "stdout"
        }
      ]
    },
    {
      "cell_type": "code",
      "metadata": {
        "id": "9pAKxi1cVU1M"
      },
      "source": [
        "import torch\n",
        "import torchvision.transforms as transforms\n",
        "import torch.utils.data as data\n",
        "from PIL import Image\n",
        "import numpy as np\n",
        "import pandas as pd\n",
        "from matplotlib import pyplot as plt"
      ],
      "execution_count": null,
      "outputs": []
    },
    {
      "cell_type": "code",
      "metadata": {
        "id": "fBKhWPopVU1P"
      },
      "source": [
        "pathToSamplePosters = './SamplePosters/'\n",
        "pathToCSV = './CNNProcessedData.csv'"
      ],
      "execution_count": null,
      "outputs": []
    },
    {
      "cell_type": "markdown",
      "metadata": {
        "id": "YYlI9BiNVU1S"
      },
      "source": [
        "# Store all images into a dict for faster access"
      ]
    },
    {
      "cell_type": "code",
      "metadata": {
        "id": "PAu7Egl5VU1T",
        "scrolled": true
      },
      "source": [
        "# import os\n",
        "import pickle\n",
        "\n",
        "# imageDict = {}\n",
        "# for i, imageFilename in enumerate(os.listdir(pathToSamplePosters)):\n",
        "#     if i % 10000 == 0:\n",
        "#         print(f'Processed {i} images')\n",
        "#     imageDict[imageFilename] = Image.open(pathToSamplePosters + imageFilename).convert('RGB')\n",
        "    \n",
        "# with open('images.dat', 'wb') as outfile:\n",
        "#     pickle.dump(imageDict, outfile, protocol=4)\n",
        "\n",
        "with open('images.dat', 'rb') as handle:\n",
        "    imageDict = pickle.load(handle)"
      ],
      "execution_count": null,
      "outputs": []
    },
    {
      "cell_type": "markdown",
      "metadata": {
        "id": "uk3WgPndVU1V"
      },
      "source": [
        "# Custom data loader"
      ]
    },
    {
      "cell_type": "code",
      "metadata": {
        "id": "SwriuAWtVU1W",
        "outputId": "32067dc0-b26e-4160-dae2-78a2647a3a32",
        "colab": {
          "base_uri": "https://localhost:8080/"
        }
      },
      "source": [
        "from torch.utils.data.sampler import SubsetRandomSampler\n",
        "\n",
        "class MyCustomDataset(torch.utils.data.Dataset):\n",
        "    # __init__ function is where the initial logic happens like reading a csv,\n",
        "    # assigning transforms etc.\n",
        "    def __init__(self, csv_path):\n",
        "        # Transforms\n",
        "        self.resize = transforms.Resize((224, 224))\n",
        "        self.to_tensor = transforms.ToTensor()\n",
        "        self.data_info = pd.read_csv(csv_path)\n",
        "        self.image_arr = np.asarray(self.data_info.iloc[:, 0])\n",
        "        self.label_arr = np.asarray(self.data_info.iloc[:, 2:], dtype=np.float32) # columns 1 to N\n",
        "        self.data_len = len(self.data_info.index)\n",
        "        self.normalize = transforms.Normalize([0.485, 0.456, 0.406], [0.229, 0.224, 0.225])\n",
        "\n",
        "\n",
        "    # __getitem__ function returns the data and labels. This function is\n",
        "    # called from dataloader like this\n",
        "    def __getitem__(self, index):\n",
        "        # Get image name from the pandas df\n",
        "        single_image_name = self.image_arr[index]\n",
        "        # Open image\n",
        "        \n",
        "        img_as_img = imageDict[single_image_name]\n",
        "        img_cropped = self.resize(img_as_img)\n",
        "        img_as_tensor = self.to_tensor(img_cropped)\n",
        "        img_as_tensor_normalized = self.normalize(img_as_tensor)\n",
        "\n",
        "        # Get label(class) of the image based on the cropped pandas column\n",
        "        single_image_label = self.label_arr[index]\n",
        "        return (single_image_name, img_as_tensor_normalized, single_image_label)\n",
        "\n",
        "    def __len__(self):\n",
        "        return self.data_len\n",
        "\n",
        "dataset = MyCustomDataset(pathToCSV)\n",
        "\n",
        "validation_split = .05\n",
        "dataset_size = len(dataset)\n",
        "indices = list(range(dataset_size))\n",
        "split = int(np.floor(validation_split * dataset_size))\n",
        "np.random.seed(42)\n",
        "np.random.shuffle(indices)\n",
        "train_indices, val_indices = indices[split:], indices[:split]\n",
        "\n",
        "train_sampler = SubsetRandomSampler(train_indices)\n",
        "valid_sampler = SubsetRandomSampler(val_indices)\n",
        "\n",
        "print(f'Training dataset set size: {len(train_sampler)}, Test dataset set size: {len(valid_sampler)}')\n",
        "# dataset.__getitem__(10)[1]\n",
        "\n",
        "device = torch.device(\"cuda:0\" if torch.cuda.is_available() else \"cpu\")\n",
        "print(device)\n",
        "\n",
        "trainloader = torch.utils.data.DataLoader(dataset, batch_size=64,\n",
        "                                          num_workers=8, sampler=train_sampler)\n",
        "testloader = torch.utils.data.DataLoader(dataset, batch_size=500,\n",
        "                                          num_workers=8, sampler=valid_sampler)\n"
      ],
      "execution_count": null,
      "outputs": [
        {
          "output_type": "stream",
          "text": [
            "Training dataset set size: 24414, Test dataset set size: 1284\n",
            "cuda:0\n"
          ],
          "name": "stdout"
        }
      ]
    },
    {
      "cell_type": "markdown",
      "metadata": {
        "id": "v5RAVl2UVU1Y"
      },
      "source": [
        "# Define CNN model"
      ]
    },
    {
      "cell_type": "code",
      "metadata": {
        "id": "XC233JVyVU1Z",
        "outputId": "b50de399-7bc7-4a80-fce8-162e27255083",
        "colab": {
          "base_uri": "https://localhost:8080/",
          "height": 1000,
          "referenced_widgets": [
            "52022b9724654915a6c40791280d8774",
            "edcd9f659182401b836c3bb2741ac8c1",
            "4611e45b9866403db3811233a671d91a",
            "1a7b6d37a5ad4d2b895db17b61c98d42",
            "ece8234664284a84b1364f1b35c77332",
            "eff2a88c206f4ba0a81d5fc133c89166",
            "f76d046e542046f591d380f9f5b634ad",
            "1322cbda63374f8d9d74c494dddf86d4"
          ]
        }
      },
      "source": [
        "import torch\n",
        "import torch.nn as nn\n",
        "import numpy as np\n",
        "import torch.optim as optim\n",
        "from torch.autograd import Variable\n",
        "from matplotlib import pyplot as plt\n",
        "import torch.nn.functional as F\n",
        "\n",
        "classes = [\"Adventure\", \"Comedy\", \"Action\", \"Romance\", \"Drama\", \"Crime\", \"Thriller\", \"Horror\", \"Mystery\", \"Documentary\"]\n",
        "classCounts = [2342, 8663, 3847, 3965, 12986, 3319, 3643, 2745, 1520, 3049]\n",
        "sumClassCounts = 25698\n",
        "weights = (torch.FloatTensor([(sumClassCounts - x) / x for x in classCounts])).to(device)\n",
        "\n",
        "\n",
        "import torchvision\n",
        "## Load the model based on RESNET18\n",
        "modelSaveLoadPath = '/content/drive/My Drive/CS3244-ML/model_gpu_top8dropoutV2.5.1'\n",
        "net = torchvision.models.resnet18(pretrained=True)\n",
        "\n",
        "# modelSaveLoadPath = '/content/drive/My Drive/CS3244-ML/model_gpu_top8dropoutV2.5.2'\n",
        "# net = torchvision.models.resnet152(pretrained=True)\n",
        "\n",
        "## freeze the layers\n",
        "# for param in net.parameters():\n",
        "#    param.requires_grad = False\n",
        "\n",
        "# Modify the last layer\n",
        "num_ftrs = net.fc.in_features\n",
        "net.fc = nn.Sequential(\n",
        "                      nn.Linear(num_ftrs, 1024), \n",
        "                      nn.ReLU(), \n",
        "                      nn.Dropout(0.5),\n",
        "                      nn.Linear(1024, 256), \n",
        "                      nn.ReLU(), \n",
        "                      nn.Dropout(0.5),\n",
        "                      nn.Linear(256, len(classes)))\n",
        "\n",
        "net = net.to(device)\n",
        "print(net)\n",
        "\n",
        "criterion = nn.BCEWithLogitsLoss(pos_weight=weights)\n",
        "optimizer = torch.optim.Adam(net.parameters(), lr=0.0004, weight_decay = 0.00004)"
      ],
      "execution_count": null,
      "outputs": [
        {
          "output_type": "stream",
          "text": [
            "Downloading: \"https://download.pytorch.org/models/resnet18-5c106cde.pth\" to /root/.cache/torch/hub/checkpoints/resnet18-5c106cde.pth\n"
          ],
          "name": "stderr"
        },
        {
          "output_type": "display_data",
          "data": {
            "application/vnd.jupyter.widget-view+json": {
              "model_id": "52022b9724654915a6c40791280d8774",
              "version_minor": 0,
              "version_major": 2
            },
            "text/plain": [
              "HBox(children=(FloatProgress(value=0.0, max=46827520.0), HTML(value='')))"
            ]
          },
          "metadata": {
            "tags": []
          }
        },
        {
          "output_type": "stream",
          "text": [
            "\n",
            "ResNet(\n",
            "  (conv1): Conv2d(3, 64, kernel_size=(7, 7), stride=(2, 2), padding=(3, 3), bias=False)\n",
            "  (bn1): BatchNorm2d(64, eps=1e-05, momentum=0.1, affine=True, track_running_stats=True)\n",
            "  (relu): ReLU(inplace=True)\n",
            "  (maxpool): MaxPool2d(kernel_size=3, stride=2, padding=1, dilation=1, ceil_mode=False)\n",
            "  (layer1): Sequential(\n",
            "    (0): BasicBlock(\n",
            "      (conv1): Conv2d(64, 64, kernel_size=(3, 3), stride=(1, 1), padding=(1, 1), bias=False)\n",
            "      (bn1): BatchNorm2d(64, eps=1e-05, momentum=0.1, affine=True, track_running_stats=True)\n",
            "      (relu): ReLU(inplace=True)\n",
            "      (conv2): Conv2d(64, 64, kernel_size=(3, 3), stride=(1, 1), padding=(1, 1), bias=False)\n",
            "      (bn2): BatchNorm2d(64, eps=1e-05, momentum=0.1, affine=True, track_running_stats=True)\n",
            "    )\n",
            "    (1): BasicBlock(\n",
            "      (conv1): Conv2d(64, 64, kernel_size=(3, 3), stride=(1, 1), padding=(1, 1), bias=False)\n",
            "      (bn1): BatchNorm2d(64, eps=1e-05, momentum=0.1, affine=True, track_running_stats=True)\n",
            "      (relu): ReLU(inplace=True)\n",
            "      (conv2): Conv2d(64, 64, kernel_size=(3, 3), stride=(1, 1), padding=(1, 1), bias=False)\n",
            "      (bn2): BatchNorm2d(64, eps=1e-05, momentum=0.1, affine=True, track_running_stats=True)\n",
            "    )\n",
            "  )\n",
            "  (layer2): Sequential(\n",
            "    (0): BasicBlock(\n",
            "      (conv1): Conv2d(64, 128, kernel_size=(3, 3), stride=(2, 2), padding=(1, 1), bias=False)\n",
            "      (bn1): BatchNorm2d(128, eps=1e-05, momentum=0.1, affine=True, track_running_stats=True)\n",
            "      (relu): ReLU(inplace=True)\n",
            "      (conv2): Conv2d(128, 128, kernel_size=(3, 3), stride=(1, 1), padding=(1, 1), bias=False)\n",
            "      (bn2): BatchNorm2d(128, eps=1e-05, momentum=0.1, affine=True, track_running_stats=True)\n",
            "      (downsample): Sequential(\n",
            "        (0): Conv2d(64, 128, kernel_size=(1, 1), stride=(2, 2), bias=False)\n",
            "        (1): BatchNorm2d(128, eps=1e-05, momentum=0.1, affine=True, track_running_stats=True)\n",
            "      )\n",
            "    )\n",
            "    (1): BasicBlock(\n",
            "      (conv1): Conv2d(128, 128, kernel_size=(3, 3), stride=(1, 1), padding=(1, 1), bias=False)\n",
            "      (bn1): BatchNorm2d(128, eps=1e-05, momentum=0.1, affine=True, track_running_stats=True)\n",
            "      (relu): ReLU(inplace=True)\n",
            "      (conv2): Conv2d(128, 128, kernel_size=(3, 3), stride=(1, 1), padding=(1, 1), bias=False)\n",
            "      (bn2): BatchNorm2d(128, eps=1e-05, momentum=0.1, affine=True, track_running_stats=True)\n",
            "    )\n",
            "  )\n",
            "  (layer3): Sequential(\n",
            "    (0): BasicBlock(\n",
            "      (conv1): Conv2d(128, 256, kernel_size=(3, 3), stride=(2, 2), padding=(1, 1), bias=False)\n",
            "      (bn1): BatchNorm2d(256, eps=1e-05, momentum=0.1, affine=True, track_running_stats=True)\n",
            "      (relu): ReLU(inplace=True)\n",
            "      (conv2): Conv2d(256, 256, kernel_size=(3, 3), stride=(1, 1), padding=(1, 1), bias=False)\n",
            "      (bn2): BatchNorm2d(256, eps=1e-05, momentum=0.1, affine=True, track_running_stats=True)\n",
            "      (downsample): Sequential(\n",
            "        (0): Conv2d(128, 256, kernel_size=(1, 1), stride=(2, 2), bias=False)\n",
            "        (1): BatchNorm2d(256, eps=1e-05, momentum=0.1, affine=True, track_running_stats=True)\n",
            "      )\n",
            "    )\n",
            "    (1): BasicBlock(\n",
            "      (conv1): Conv2d(256, 256, kernel_size=(3, 3), stride=(1, 1), padding=(1, 1), bias=False)\n",
            "      (bn1): BatchNorm2d(256, eps=1e-05, momentum=0.1, affine=True, track_running_stats=True)\n",
            "      (relu): ReLU(inplace=True)\n",
            "      (conv2): Conv2d(256, 256, kernel_size=(3, 3), stride=(1, 1), padding=(1, 1), bias=False)\n",
            "      (bn2): BatchNorm2d(256, eps=1e-05, momentum=0.1, affine=True, track_running_stats=True)\n",
            "    )\n",
            "  )\n",
            "  (layer4): Sequential(\n",
            "    (0): BasicBlock(\n",
            "      (conv1): Conv2d(256, 512, kernel_size=(3, 3), stride=(2, 2), padding=(1, 1), bias=False)\n",
            "      (bn1): BatchNorm2d(512, eps=1e-05, momentum=0.1, affine=True, track_running_stats=True)\n",
            "      (relu): ReLU(inplace=True)\n",
            "      (conv2): Conv2d(512, 512, kernel_size=(3, 3), stride=(1, 1), padding=(1, 1), bias=False)\n",
            "      (bn2): BatchNorm2d(512, eps=1e-05, momentum=0.1, affine=True, track_running_stats=True)\n",
            "      (downsample): Sequential(\n",
            "        (0): Conv2d(256, 512, kernel_size=(1, 1), stride=(2, 2), bias=False)\n",
            "        (1): BatchNorm2d(512, eps=1e-05, momentum=0.1, affine=True, track_running_stats=True)\n",
            "      )\n",
            "    )\n",
            "    (1): BasicBlock(\n",
            "      (conv1): Conv2d(512, 512, kernel_size=(3, 3), stride=(1, 1), padding=(1, 1), bias=False)\n",
            "      (bn1): BatchNorm2d(512, eps=1e-05, momentum=0.1, affine=True, track_running_stats=True)\n",
            "      (relu): ReLU(inplace=True)\n",
            "      (conv2): Conv2d(512, 512, kernel_size=(3, 3), stride=(1, 1), padding=(1, 1), bias=False)\n",
            "      (bn2): BatchNorm2d(512, eps=1e-05, momentum=0.1, affine=True, track_running_stats=True)\n",
            "    )\n",
            "  )\n",
            "  (avgpool): AdaptiveAvgPool2d(output_size=(1, 1))\n",
            "  (fc): Sequential(\n",
            "    (0): Linear(in_features=512, out_features=1024, bias=True)\n",
            "    (1): ReLU()\n",
            "    (2): Dropout(p=0.5, inplace=False)\n",
            "    (3): Linear(in_features=1024, out_features=256, bias=True)\n",
            "    (4): ReLU()\n",
            "    (5): Dropout(p=0.5, inplace=False)\n",
            "    (6): Linear(in_features=256, out_features=10, bias=True)\n",
            "  )\n",
            ")\n"
          ],
          "name": "stdout"
        }
      ]
    },
    {
      "cell_type": "code",
      "metadata": {
        "id": "nRVbDI6nymMW"
      },
      "source": [
        "curMaxF1Score = 0.54"
      ],
      "execution_count": null,
      "outputs": []
    },
    {
      "cell_type": "markdown",
      "metadata": {
        "id": "ovkwmcFYVU1c"
      },
      "source": [
        "# Train model"
      ]
    },
    {
      "cell_type": "code",
      "metadata": {
        "id": "Sbak-tQeVU1d"
      },
      "source": [
        "from sklearn.metrics import hamming_loss\n",
        "from sklearn.metrics import f1_score\n",
        "\n",
        "dataiter = iter(testloader)\n",
        "testdata = dataiter.next()\n",
        "\n",
        "testposterId, testinputs, testlabels = testdata\n",
        "testinputs = testinputs.to(device)\n",
        "testlabels = testlabels.to(device)\n",
        "\n",
        "net.train()\n",
        "\n",
        "for epoch in range(300):  # loop over the dataset multiple times\n",
        "\n",
        "    running_loss = 0.0\n",
        "    for i, data in enumerate(trainloader, 0):\n",
        "        # get the inputs; data is a list of [inputs, labels]\n",
        "        posterId, inputs, labels = data\n",
        "        inputs = inputs.to(device)\n",
        "        labels = labels.to(device)\n",
        "\n",
        "        # zero the parameter gradients\n",
        "        optimizer.zero_grad()\n",
        "\n",
        "        # forward + backward + optimize\n",
        "        outputs = net(inputs)\n",
        "        loss = criterion(outputs, labels)\n",
        "        loss.backward()\n",
        "        optimizer.step()\n",
        "\n",
        "        # print statistics\n",
        "        running_loss += loss.item()\n",
        "        if i % 200 == 199:    # print every 200 mini-batches\n",
        "            net.eval()\n",
        "            with torch.no_grad():\n",
        "                testoutputs = net(testinputs)\n",
        "                testloss = criterion(testoutputs, testlabels)\n",
        "                testoutputs = np.vectorize(lambda x : 1 if x > 0 else 0)(testoutputs.cpu())\n",
        "                hamLoss = hamming_loss(np.array(testlabels.cpu()), testoutputs)\n",
        "                f1score = f1_score(np.array(testlabels.cpu()), testoutputs, average='micro')\n",
        "                fullyCorrect = 0\n",
        "                for j in range(len(testlabels)):\n",
        "                    if (f'%s' % [classes[i] for i, x in enumerate(testoutputs[j].tolist()) if x == 1]) == (f'%s' % [classes[i] for i, x in enumerate(testlabels[j].tolist()) if x == 1]):\n",
        "                      fullyCorrect += 1\n",
        "                print(f'Epoch[{epoch + 1} Batch {i + 1}] Training loss: {running_loss / 200}, Validation loss: {testloss}, Hamming loss: {hamLoss}, F1 Score: {f1score}, 100% correct: {fullyCorrect / len(testlabels)}')\n",
        "\n",
        "            net.train()\n",
        "            if f1score > curMaxF1Score:\n",
        "                print(f\"Saving model with F1 Score: {f1score}, Hamming loss: {hamLoss}\")\n",
        "                curMaxF1Score = f1score\n",
        "                torch.save(net.state_dict(), modelSaveLoadPath)\n",
        "                \n",
        "            running_loss = 0.0\n",
        "\n",
        "print('Finished Training')"
      ],
      "execution_count": null,
      "outputs": []
    },
    {
      "cell_type": "code",
      "metadata": {
        "id": "Duf0ngJFVU1f"
      },
      "source": [
        "import torchvision\n",
        "import matplotlib\n",
        "from sklearn.metrics import hamming_loss\n",
        "from sklearn.metrics import f1_score\n",
        "from sklearn.metrics import recall_score\n",
        "from sklearn.metrics import precision_score\n",
        "\n",
        "# net = Net(len(classes))\n",
        "net.load_state_dict(torch.load(modelSaveLoadPath, map_location=\"cuda:0\"))\n",
        "net.to(device)\n",
        "net.eval()\n",
        "\n",
        "demoloader = torch.utils.data.DataLoader(dataset, batch_size=1284, num_workers=8, sampler=valid_sampler)\n",
        "\n",
        "demoloader2 = torch.utils.data.DataLoader(dataset, batch_size=1, num_workers=8, sampler=valid_sampler)"
      ],
      "execution_count": null,
      "outputs": []
    },
    {
      "cell_type": "code",
      "metadata": {
        "id": "3H23X37DD3P-",
        "outputId": "b277f29f-965f-4fd2-bbcc-5067ae701078",
        "colab": {
          "base_uri": "https://localhost:8080/"
        }
      },
      "source": [
        "def imshow(img):\n",
        "    npimg = np.transpose(img.cpu(), (1, 2, 0))\n",
        "    plt.imshow(npimg)\n",
        "    plt.show()\n",
        "\n",
        "dataiter = iter(demoloader)\n",
        "posterId, inputs, labels = dataiter.next()\n",
        "inputs = inputs.to(device)\n",
        "labels = labels.to(device)\n",
        "\n",
        "with torch.no_grad():\n",
        "    outputs = net(inputs)\n",
        "outputs = np.vectorize(lambda x : 1 if x > 0 else 0)(outputs.cpu())\n",
        "\n",
        "# print images\n",
        "# imshow(torchvision.utils.make_grid(inputs))\n",
        "\n",
        "hamLoss = hamming_loss(np.array(labels.cpu()), outputs)\n",
        "f1score = f1_score(np.array(labels.cpu()), outputs, average='micro')\n",
        "recall = recall_score(np.array(labels.cpu()), outputs, average='micro')\n",
        "precision = precision_score(np.array(labels.cpu()), outputs, average='micro')\n",
        "atLeastOneCorrect = sum([1 if any([True if (outputs[i][j] == 1 and labels[i][j] == 1) else False for j in range(len(classes))]) else 0 for i in range(len(labels))]) / len(labels)\n",
        "fullyCorrect = 0\n",
        "for j in range(len(labels)):\n",
        "    if (f'%s' % [classes[i] for i, x in enumerate(outputs[j].tolist()) if x == 1]) == (f'%s' % [classes[i] for i, x in enumerate(labels[j].tolist()) if x == 1]):\n",
        "      fullyCorrect += 1\n",
        "\n",
        "print(f'Hamming loss: {hamLoss}, F1 Score: {f1score}, 100% accuracy: {fullyCorrect / len(labels)}, At leach one positive correct: {atLeastOneCorrect}, Recall: {recall}, Precision: {precision}')\n",
        "\n",
        "print('Predicted: ', ' '.join(f'%35s' % [classes[i] for i, x in enumerate(outputs[j].tolist()) if x == 1] for j in range(len(labels))))\n",
        "print('GroundTruth: ', ' '.join('%35s' % [classes[i] for i, x in enumerate(labels[j].tolist()) if x == 1] for j in range(len(labels))))"
      ],
      "execution_count": null,
      "outputs": [
        {
          "output_type": "stream",
          "text": [
            "Hamming loss: 0.1998442367601246, F1 Score: 0.5248148148148148, 100% accuracy: 0.12149532710280374, At leach one positive correct: 0.8029595015576324, Recall: 0.6092003439380912, Precision: 0.46096291476903056\n",
            "Predicted:              ['Adventure', 'Action']                 ['Drama', 'Horror']       ['Comedy', 'Action', 'Crime'] ['Action', 'Drama', 'Crime', 'Thriller']      ['Action', 'Romance', 'Drama']                ['Romance', 'Drama']                          ['Comedy']                     ['Documentary']                     ['Documentary']      ['Comedy', 'Romance', 'Drama']                ['Romance', 'Drama']      ['Comedy', 'Romance', 'Drama']     ['Action', 'Drama', 'Thriller']      ['Comedy', 'Romance', 'Drama']      ['Comedy', 'Romance', 'Drama']              ['Thriller', 'Horror']      ['Comedy', 'Romance', 'Drama']     ['Drama', 'Thriller', 'Horror']              ['Action', 'Thriller']                 ['Action', 'Drama']                ['Romance', 'Drama']                  ['Drama', 'Crime']                 ['Comedy', 'Drama']                ['Romance', 'Drama']      ['Comedy', 'Romance', 'Drama']    ['Adventure', 'Action', 'Drama']                 ['Drama', 'Horror']                          ['Comedy']              ['Thriller', 'Horror']            ['Drama', 'Documentary']               ['Drama', 'Thriller']              ['Thriller', 'Horror']      ['Comedy', 'Romance', 'Drama'] ['Action', 'Romance', 'Drama', 'Crime']            ['Drama', 'Documentary'] ['Comedy', 'Action', 'Romance', 'Drama']            ['Drama', 'Documentary']       ['Comedy', 'Action', 'Crime']      ['Comedy', 'Romance', 'Crime']                 ['Comedy', 'Drama']      ['Drama', 'Crime', 'Thriller']      ['Comedy', 'Romance', 'Drama']             ['Adventure', 'Action']            ['Crime', 'Documentary']                 ['Comedy', 'Drama']      ['Comedy', 'Romance', 'Drama']     ['Action', 'Drama', 'Thriller']                ['Action', 'Horror']                           ['Drama']        ['Comedy', 'Drama', 'Crime']                     ['Documentary']                                  []              ['Thriller', 'Horror'] ['Drama', 'Crime', 'Thriller', 'Horror']                           ['Drama']                 ['Comedy', 'Drama']                 ['Comedy', 'Crime']      ['Comedy', 'Romance', 'Drama']                          ['Comedy']                           ['Drama']    ['Drama', 'Thriller', 'Mystery']                     ['Documentary']    ['Adventure', 'Action', 'Drama']                           ['Drama']      ['Action', 'Romance', 'Drama']      ['Comedy', 'Romance', 'Drama']      ['Drama', 'Crime', 'Thriller']                          ['Comedy']            ['Drama', 'Documentary']    ['Action', 'Thriller', 'Horror']       ['Comedy', 'Action', 'Crime']                          ['Comedy']       ['Comedy', 'Action', 'Crime']        ['Action', 'Drama', 'Crime']                ['Romance', 'Drama']                 ['Comedy', 'Drama']      ['Comedy', 'Romance', 'Drama']                 ['Comedy', 'Drama'] ['Comedy', 'Action', 'Drama', 'Crime']                           ['Drama']      ['Drama', 'Crime', 'Thriller']             ['Adventure', 'Comedy']                           ['Drama']                           ['Drama'] ['Adventure', 'Comedy', 'Action', 'Horror']      ['Comedy', 'Romance', 'Drama']                 ['Comedy', 'Drama'] ['Action', 'Crime', 'Horror', 'Documentary']                 ['Comedy', 'Drama']      ['Comedy', 'Action', 'Horror']      ['Comedy', 'Romance', 'Drama']               ['Comedy', 'Romance']                 ['Comedy', 'Drama']              ['Thriller', 'Horror']                          ['Comedy']               ['Comedy', 'Romance']                          ['Comedy']      ['Drama', 'Crime', 'Thriller']     ['Action', 'Crime', 'Thriller']            ['Drama', 'Documentary']                ['Romance', 'Drama']                ['Romance', 'Drama']               ['Drama', 'Thriller'] ['Action', 'Drama', 'Crime', 'Thriller']                     ['Documentary']                           ['Drama']                 ['Comedy', 'Drama']                ['Comedy', 'Horror']                          ['Comedy']        ['Action', 'Drama', 'Crime']     ['Drama', 'Thriller', 'Horror'] ['Action', 'Drama', 'Crime', 'Thriller'] ['Romance', 'Drama', 'Documentary']                           ['Drama']                     ['Documentary']      ['Comedy', 'Romance', 'Crime']                           ['Drama']             ['Adventure', 'Comedy']                 ['Action', 'Drama']                 ['Drama', 'Horror']                 ['Comedy', 'Drama']                          ['Comedy']      ['Comedy', 'Romance', 'Drama']   ['Adventure', 'Comedy', 'Action']     ['Action', 'Crime', 'Thriller']              ['Thriller', 'Horror']   ['Adventure', 'Comedy', 'Action']                     ['Documentary']      ['Comedy', 'Action', 'Horror']     ['Action', 'Crime', 'Thriller']      ['Comedy', 'Romance', 'Drama']           ['Comedy', 'Documentary']                 ['Comedy', 'Drama']                 ['Comedy', 'Drama']      ['Drama', 'Crime', 'Thriller']      ['Drama', 'Crime', 'Thriller']      ['Comedy', 'Romance', 'Drama']      ['Drama', 'Crime', 'Thriller']       ['Romance', 'Drama', 'Crime']     ['Crime', 'Thriller', 'Horror']              ['Thriller', 'Horror']           ['Comedy', 'Documentary']              ['Adventure', 'Drama']        ['Comedy', 'Drama', 'Crime'] ['Action', 'Drama', 'Crime', 'Thriller']                          ['Comedy']             ['Adventure', 'Comedy']                          ['Comedy']                           ['Drama']                 ['Comedy', 'Drama']      ['Action', 'Romance', 'Drama']                 ['Action', 'Drama']     ['Action', 'Drama', 'Thriller']     ['Comedy', 'Action', 'Romance'] ['Romance', 'Drama', 'Crime', 'Thriller']    ['Romance', 'Drama', 'Thriller']             ['Adventure', 'Comedy']             ['Adventure', 'Action']      ['Drama', 'Crime', 'Thriller']      ['Comedy', 'Romance', 'Drama']      ['Action', 'Romance', 'Drama']                           ['Drama']  ['Comedy', 'Drama', 'Documentary']           ['Comedy', 'Documentary']                     ['Documentary']                          ['Comedy']      ['Comedy', 'Romance', 'Drama']                 ['Comedy', 'Drama']       ['Comedy', 'Action', 'Drama']       ['Comedy', 'Action', 'Crime']             ['Adventure', 'Comedy']               ['Comedy', 'Romance']      ['Comedy', 'Romance', 'Drama'] ['Drama', 'Thriller', 'Horror', 'Mystery']             ['Adventure', 'Comedy']                ['Comedy', 'Action']                           ['Drama'] ['Comedy', 'Action', 'Crime', 'Thriller', 'Horror']             ['Adventure', 'Comedy']                          ['Comedy']      ['Comedy', 'Romance', 'Drama']      ['Comedy', 'Romance', 'Drama']                           ['Drama']      ['Drama', 'Crime', 'Thriller']      ['Comedy', 'Romance', 'Drama']                           ['Drama']             ['Adventure', 'Comedy']        ['Comedy', 'Drama', 'Crime']      ['Comedy', 'Romance', 'Drama']            ['Drama', 'Documentary']      ['Comedy', 'Romance', 'Drama']      ['Comedy', 'Romance', 'Drama']             ['Adventure', 'Comedy']                 ['Comedy', 'Drama']      ['Comedy', 'Romance', 'Drama']            ['Drama', 'Documentary']      ['Comedy', 'Romance', 'Drama']            ['Drama', 'Documentary']                 ['Comedy', 'Drama'] ['Action', 'Drama', 'Crime', 'Thriller']      ['Comedy', 'Romance', 'Drama']               ['Comedy', 'Romance']            ['Drama', 'Documentary'] ['Drama', 'Crime', 'Thriller', 'Horror']                ['Romance', 'Drama'] ['Adventure', 'Comedy', 'Romance', 'Drama']    ['Drama', 'Thriller', 'Mystery']            ['Drama', 'Documentary']                  ['Drama', 'Crime']                ['Romance', 'Drama']                     ['Documentary']                 ['Comedy', 'Drama']               ['Comedy', 'Romance']      ['Drama', 'Crime', 'Thriller']                           ['Drama']              ['Thriller', 'Horror']                     ['Documentary'] ['Comedy', 'Action', 'Crime', 'Thriller']       ['Comedy', 'Action', 'Crime']            ['Drama', 'Documentary']                 ['Comedy', 'Drama']            ['Drama', 'Documentary']              ['Action', 'Thriller']     ['Action', 'Crime', 'Thriller']      ['Comedy', 'Romance', 'Drama']     ['Drama', 'Thriller', 'Horror']                     ['Documentary']            ['Drama', 'Documentary']      ['Comedy', 'Romance', 'Drama']    ['Romance', 'Drama', 'Thriller']      ['Comedy', 'Romance', 'Drama'] ['Drama', 'Thriller', 'Documentary']     ['Crime', 'Thriller', 'Horror']      ['Comedy', 'Romance', 'Drama'] ['Action', 'Drama', 'Crime', 'Thriller']     ['Drama', 'Thriller', 'Horror'] ['Action', 'Drama', 'Crime', 'Thriller', 'Horror']      ['Drama', 'Crime', 'Thriller']            ['Crime', 'Documentary']           ['Comedy', 'Documentary']      ['Drama', 'Crime', 'Thriller']                 ['Action', 'Drama']                 ['Comedy', 'Drama'] ['Action', 'Drama', 'Crime', 'Thriller']               ['Comedy', 'Romance']           ['Comedy', 'Documentary']      ['Comedy', 'Romance', 'Drama']                           ['Drama']                          ['Comedy']            ['Drama', 'Documentary']           ['Comedy', 'Documentary']               ['Comedy', 'Romance']                           ['Drama']                           ['Drama']                           ['Drama']       ['Romance', 'Drama', 'Crime'] ['Drama', 'Crime', 'Thriller', 'Mystery']                ['Romance', 'Drama']    ['Drama', 'Thriller', 'Mystery']      ['Comedy', 'Action', 'Horror']      ['Drama', 'Crime', 'Thriller']                           ['Drama']               ['Drama', 'Thriller']                           ['Drama']      ['Comedy', 'Romance', 'Drama']      ['Comedy', 'Romance', 'Drama']                           ['Drama']                          ['Comedy']  ['Comedy', 'Drama', 'Documentary']                ['Romance', 'Drama']      ['Comedy', 'Romance', 'Drama']      ['Comedy', 'Romance', 'Drama']                 ['Action', 'Crime']      ['Drama', 'Crime', 'Thriller']                 ['Comedy', 'Drama']       ['Comedy', 'Action', 'Drama'] ['Adventure', 'Romance', 'Drama', 'Thriller']      ['Comedy', 'Romance', 'Drama']       ['Romance', 'Drama', 'Crime']                          ['Comedy'] ['Drama', 'Crime', 'Thriller', 'Horror'] ['Comedy', 'Action', 'Drama', 'Crime']     ['Comedy', 'Drama', 'Thriller'] ['Comedy', 'Drama', 'Crime', 'Thriller']        ['Action', 'Drama', 'Crime']      ['Drama', 'Crime', 'Thriller']                           ['Drama']     ['Action', 'Crime', 'Thriller']                           ['Drama']                 ['Comedy', 'Drama']               ['Comedy', 'Romance']               ['Comedy', 'Romance']             ['Adventure', 'Comedy']              ['Thriller', 'Horror']     ['Action', 'Crime', 'Thriller']       ['Action', 'Drama', 'Horror']                           ['Drama']      ['Comedy', 'Romance', 'Drama']                          ['Comedy']                          ['Comedy']                ['Romance', 'Drama']      ['Drama', 'Crime', 'Thriller'] ['Comedy', 'Romance', 'Drama', 'Thriller']                           ['Drama']                 ['Comedy', 'Drama'] ['Action', 'Drama', 'Crime', 'Thriller']   ['Adventure', 'Comedy', 'Action']     ['Crime', 'Thriller', 'Horror']      ['Comedy', 'Romance', 'Drama']           ['Comedy', 'Documentary']                     ['Documentary']      ['Comedy', 'Action', 'Horror']    ['Adventure', 'Comedy', 'Drama'] ['Drama', 'Thriller', 'Horror', 'Mystery']              ['Adventure', 'Drama']               ['Comedy', 'Romance']      ['Drama', 'Crime', 'Thriller']            ['Drama', 'Documentary']     ['Drama', 'Thriller', 'Horror']                          ['Comedy']                ['Romance', 'Drama']                 ['Comedy', 'Drama']                 ['Action', 'Crime']                 ['Comedy', 'Drama']    ['Action', 'Thriller', 'Horror']             ['Adventure', 'Comedy']               ['Comedy', 'Romance']     ['Drama', 'Thriller', 'Horror']                 ['Comedy', 'Drama']               ['Comedy', 'Romance']                ['Comedy', 'Action']      ['Comedy', 'Romance', 'Crime']                     ['Documentary']                          ['Comedy']              ['Thriller', 'Horror']               ['Drama', 'Thriller']                           ['Drama']                 ['Comedy', 'Drama']     ['Action', 'Crime', 'Thriller']      ['Comedy', 'Romance', 'Drama']                 ['Comedy', 'Drama']  ['Adventure', 'Drama', 'Thriller']                  ['Drama', 'Crime']                          ['Action']      ['Comedy', 'Romance', 'Drama']                ['Romance', 'Drama']      ['Comedy', 'Romance', 'Drama']      ['Comedy', 'Romance', 'Crime']                          ['Comedy']             ['Adventure', 'Action']                          ['Comedy'] ['Adventure', 'Comedy', 'Action', 'Horror']                 ['Comedy', 'Drama']              ['Thriller', 'Horror']      ['Comedy', 'Romance', 'Drama']              ['Thriller', 'Horror']      ['Comedy', 'Romance', 'Drama']      ['Comedy', 'Romance', 'Drama']              ['Thriller', 'Horror']            ['Drama', 'Documentary']                     ['Documentary']      ['Comedy', 'Romance', 'Drama']              ['Thriller', 'Horror']      ['Comedy', 'Romance', 'Drama']                  ['Drama', 'Crime']                       ['Adventure']      ['Drama', 'Crime', 'Thriller']               ['Drama', 'Thriller']                           ['Drama'] ['Comedy', 'Romance', 'Drama', 'Thriller']               ['Drama', 'Thriller']     ['Action', 'Crime', 'Thriller']      ['Comedy', 'Romance', 'Drama']        ['Comedy', 'Drama', 'Crime']      ['Comedy', 'Romance', 'Drama']      ['Comedy', 'Romance', 'Drama'] ['Comedy', 'Action', 'Romance', 'Drama', 'Crime']                 ['Comedy', 'Drama']                     ['Documentary']                 ['Comedy', 'Drama']   ['Adventure', 'Comedy', 'Action']  ['Drama', 'Horror', 'Documentary']     ['Drama', 'Thriller', 'Horror']      ['Drama', 'Crime', 'Thriller']      ['Comedy', 'Romance', 'Drama']                           ['Drama']              ['Thriller', 'Horror'] ['Action', 'Drama', 'Crime', 'Thriller']                           ['Drama']               ['Drama', 'Thriller']                ['Comedy', 'Action'] ['Romance', 'Drama', 'Documentary']                ['Romance', 'Drama'] ['Action', 'Drama', 'Crime', 'Thriller']               ['Comedy', 'Romance']   ['Adventure', 'Comedy', 'Action']                          ['Comedy']      ['Comedy', 'Romance', 'Drama']      ['Comedy', 'Romance', 'Drama']                ['Romance', 'Drama']            ['Drama', 'Documentary']                     ['Documentary']                           ['Drama']     ['Action', 'Crime', 'Thriller']               ['Comedy', 'Romance']                           ['Drama'] ['Action', 'Drama', 'Crime', 'Thriller']    ['Action', 'Thriller', 'Horror']        ['Comedy', 'Drama', 'Crime']             ['Adventure', 'Comedy']      ['Comedy', 'Romance', 'Drama'] ['Action', 'Horror', 'Documentary']    ['Comedy', 'Action', 'Thriller']                          ['Comedy']                           ['Drama']                     ['Documentary']                           ['Drama']     ['Drama', 'Thriller', 'Horror']     ['Action', 'Drama', 'Thriller'] ['Action', 'Crime', 'Thriller', 'Horror']     ['Action', 'Crime', 'Thriller']                     ['Documentary']     ['Comedy', 'Drama', 'Thriller']      ['Comedy', 'Romance', 'Drama']                          ['Action'] ['Action', 'Crime', 'Thriller', 'Horror'] ['Comedy', 'Action', 'Drama', 'Horror']                           ['Drama']   ['Adventure', 'Comedy', 'Action']               ['Comedy', 'Romance']                          ['Action'] ['Comedy', 'Action', 'Crime', 'Thriller']                 ['Comedy', 'Drama'] ['Romance', 'Drama', 'Crime', 'Mystery']                 ['Comedy', 'Drama']    ['Action', 'Thriller', 'Horror']           ['Comedy', 'Documentary']      ['Comedy', 'Romance', 'Drama']                 ['Comedy', 'Drama']    ['Adventure', 'Action', 'Drama']            ['Drama', 'Documentary']      ['Comedy', 'Romance', 'Drama']   ['Adventure', 'Comedy', 'Action']                          ['Comedy']                ['Romance', 'Drama']        ['Comedy', 'Drama', 'Crime']                           ['Drama']                           ['Drama']                          ['Comedy']                           ['Drama']             ['Adventure', 'Comedy']                 ['Comedy', 'Drama']               ['Drama', 'Thriller'] ['Thriller', 'Horror', 'Documentary'] ['Romance', 'Drama', 'Crime', 'Mystery']                           ['Drama']                ['Romance', 'Drama']               ['Comedy', 'Romance'] ['Action', 'Romance', 'Drama', 'Crime']               ['Drama', 'Thriller']                ['Comedy', 'Horror']      ['Drama', 'Crime', 'Thriller']     ['Action', 'Crime', 'Thriller']  ['Comedy', 'Crime', 'Documentary']           ['Comedy', 'Documentary']     ['Drama', 'Thriller', 'Horror']      ['Comedy', 'Romance', 'Drama']                           ['Drama']           ['Horror', 'Documentary'] ['Drama', 'Crime', 'Thriller', 'Mystery']                          ['Comedy']    ['Drama', 'Thriller', 'Mystery'] ['Romance', 'Drama', 'Thriller', 'Mystery']                           ['Drama']     ['Drama', 'Thriller', 'Horror']    ['Action', 'Thriller', 'Horror'] ['Drama', 'Thriller', 'Horror', 'Mystery']              ['Thriller', 'Horror']               ['Comedy', 'Romance']                          ['Comedy']                     ['Documentary']                          ['Comedy'] ['Comedy', 'Action', 'Drama', 'Crime']      ['Comedy', 'Romance', 'Drama']                ['Comedy', 'Action']    ['Comedy', 'Action', 'Thriller']      ['Comedy', 'Romance', 'Drama']        ['Comedy', 'Drama', 'Crime']      ['Comedy', 'Romance', 'Drama']      ['Comedy', 'Romance', 'Drama']                     ['Documentary']                           ['Drama']           ['Horror', 'Documentary']                     ['Documentary']   ['Adventure', 'Comedy', 'Action']                     ['Documentary']                 ['Action', 'Drama']                 ['Comedy', 'Drama']             ['Adventure', 'Comedy']                ['Comedy', 'Action'] ['Action', 'Drama', 'Crime', 'Thriller']               ['Drama', 'Thriller']                ['Action', 'Horror']      ['Drama', 'Crime', 'Thriller']               ['Drama', 'Thriller']    ['Action', 'Thriller', 'Horror']                 ['Comedy', 'Drama'] ['Drama', 'Crime', 'Thriller', 'Horror']                          ['Comedy']      ['Comedy', 'Action', 'Horror']                     ['Documentary'] ['Action', 'Drama', 'Crime', 'Thriller']            ['Drama', 'Documentary'] ['Drama', 'Crime', 'Thriller', 'Horror', 'Mystery']      ['Comedy', 'Romance', 'Drama']                 ['Comedy', 'Crime']      ['Drama', 'Crime', 'Thriller']      ['Drama', 'Crime', 'Thriller']      ['Comedy', 'Romance', 'Drama']                ['Romance', 'Drama']              ['Thriller', 'Horror']                 ['Comedy', 'Drama']                           ['Drama']      ['Comedy', 'Romance', 'Drama']                     ['Documentary']             ['Adventure', 'Action'] ['Adventure', 'Comedy', 'Romance', 'Drama'] ['Drama', 'Crime', 'Thriller', 'Mystery'] ['Comedy', 'Romance', 'Drama', 'Crime']    ['Drama', 'Thriller', 'Mystery']       ['Romance', 'Drama', 'Crime']               ['Drama', 'Thriller']      ['Comedy', 'Romance', 'Drama']                 ['Comedy', 'Drama']      ['Comedy', 'Romance', 'Drama']                ['Romance', 'Drama']                     ['Documentary']      ['Comedy', 'Romance', 'Drama']      ['Comedy', 'Romance', 'Drama']               ['Drama', 'Thriller']       ['Romance', 'Drama', 'Crime']                  ['Drama', 'Crime']             ['Adventure', 'Comedy']                           ['Drama']               ['Drama', 'Thriller']               ['Comedy', 'Romance']               ['Comedy', 'Romance'] ['Action', 'Drama', 'Crime', 'Thriller']   ['Drama', 'Crime', 'Documentary']                  ['Drama', 'Crime']   ['Adventure', 'Comedy', 'Action']                  ['Drama', 'Crime']           ['Comedy', 'Documentary']                     ['Documentary']                ['Comedy', 'Horror']   ['Drama', 'Crime', 'Documentary']  ['Action', 'Drama', 'Documentary']               ['Comedy', 'Romance']                 ['Comedy', 'Drama']           ['Comedy', 'Documentary']      ['Comedy', 'Romance', 'Drama'] ['Drama', 'Crime', 'Thriller', 'Mystery']                          ['Comedy']                ['Romance', 'Drama'] ['Action', 'Drama', 'Crime', 'Thriller']    ['Adventure', 'Comedy', 'Drama'] ['Drama', 'Thriller', 'Documentary']               ['Drama', 'Thriller'] ['Action', 'Drama', 'Crime', 'Thriller']             ['Adventure', 'Action'] ['Comedy', 'Action', 'Romance', 'Drama', 'Crime', 'Thriller'] ['Comedy', 'Action', 'Drama', 'Crime', 'Thriller']    ['Action', 'Thriller', 'Horror']             ['Adventure', 'Action'] ['Action', 'Drama', 'Crime', 'Thriller']     ['Action', 'Crime', 'Thriller']             ['Adventure', 'Action']                           ['Drama']                ['Romance', 'Drama']                 ['Comedy', 'Drama'] ['Adventure', 'Action', 'Thriller']      ['Romance', 'Drama', 'Horror']   ['Adventure', 'Comedy', 'Action']  ['Action', 'Drama', 'Documentary']   ['Adventure', 'Comedy', 'Action']           ['Action', 'Documentary']            ['Drama', 'Documentary']               ['Comedy', 'Romance']                 ['Comedy', 'Drama']     ['Action', 'Drama', 'Thriller']                 ['Comedy', 'Drama']                  ['Drama', 'Crime']                           ['Drama']                           ['Drama']                  ['Drama', 'Crime']           ['Action', 'Documentary']      ['Comedy', 'Romance', 'Drama'] ['Action', 'Drama', 'Crime', 'Thriller']               ['Drama', 'Thriller']                 ['Comedy', 'Drama']   ['Thriller', 'Horror', 'Mystery']      ['Comedy', 'Romance', 'Drama']      ['Comedy', 'Romance', 'Drama']                     ['Documentary']                ['Romance', 'Drama']      ['Comedy', 'Romance', 'Drama'] ['Crime', 'Thriller', 'Horror', 'Mystery']                           ['Drama'] ['Comedy', 'Action', 'Drama', 'Crime']                     ['Documentary']                  ['Drama', 'Crime']                 ['Comedy', 'Drama']           ['Comedy', 'Documentary']              ['Thriller', 'Horror'] ['Action', 'Romance', 'Drama', 'Crime'] ['Adventure', 'Action', 'Thriller']               ['Comedy', 'Romance']               ['Comedy', 'Romance']              ['Thriller', 'Horror']                 ['Comedy', 'Crime']      ['Comedy', 'Romance', 'Drama']                 ['Comedy', 'Drama']               ['Comedy', 'Romance']                 ['Comedy', 'Crime'] ['Action', 'Drama', 'Crime', 'Thriller']             ['Adventure', 'Comedy']            ['Drama', 'Documentary']                          ['Comedy']      ['Comedy', 'Romance', 'Drama']                 ['Comedy', 'Drama']                           ['Drama']               ['Drama', 'Thriller']      ['Comedy', 'Romance', 'Drama'] ['Comedy', 'Drama', 'Crime', 'Thriller']                          ['Horror']                 ['Drama', 'Horror'] ['Action', 'Romance', 'Thriller', 'Horror'] ['Action', 'Crime', 'Thriller', 'Horror']      ['Drama', 'Crime', 'Thriller']             ['Adventure', 'Comedy']             ['Adventure', 'Action']          ['Mystery', 'Documentary']                     ['Documentary'] ['Adventure', 'Comedy', 'Action', 'Horror']            ['Drama', 'Documentary']       ['Action', 'Crime', 'Horror']                ['Romance', 'Drama']      ['Comedy', 'Romance', 'Drama']               ['Drama', 'Thriller']                           ['Drama']                           ['Drama']                           ['Drama']      ['Comedy', 'Romance', 'Drama'] ['Action', 'Drama', 'Crime', 'Thriller']                ['Comedy', 'Action']                ['Romance', 'Drama']              ['Action', 'Thriller']       ['Action', 'Crime', 'Horror']     ['Crime', 'Thriller', 'Horror']               ['Drama', 'Thriller']       ['Comedy', 'Crime', 'Horror'] ['Drama', 'Thriller', 'Horror', 'Mystery']     ['Action', 'Crime', 'Thriller']     ['Action', 'Drama', 'Thriller']                ['Comedy', 'Action']                 ['Comedy', 'Drama']             ['Adventure', 'Action']                ['Comedy', 'Action']                          ['Horror']                ['Romance', 'Drama']                ['Comedy', 'Horror']                 ['Comedy', 'Drama']   ['Thriller', 'Horror', 'Mystery']                          ['Comedy']      ['Comedy', 'Romance', 'Drama']                          ['Comedy'] ['Action', 'Drama', 'Crime', 'Thriller']                ['Romance', 'Drama'] ['Action', 'Drama', 'Crime', 'Thriller', 'Mystery']                ['Romance', 'Drama']   ['Adventure', 'Comedy', 'Action']        ['Action', 'Drama', 'Crime']                           ['Drama']                ['Romance', 'Drama']                     ['Documentary']      ['Comedy', 'Romance', 'Drama'] ['Adventure', 'Action', 'Thriller', 'Horror']      ['Comedy', 'Romance', 'Drama']      ['Comedy', 'Romance', 'Drama']               ['Drama', 'Thriller']                ['Romance', 'Drama']      ['Comedy', 'Romance', 'Drama']                          ['Comedy']               ['Crime', 'Thriller']      ['Comedy', 'Romance', 'Drama']                ['Comedy', 'Action']            ['Drama', 'Documentary']                           ['Drama']                 ['Action', 'Crime']                 ['Action', 'Drama']                 ['Comedy', 'Drama'] ['Drama', 'Crime', 'Thriller', 'Documentary']                 ['Action', 'Drama']              ['Action', 'Thriller']                           ['Drama']           ['Comedy', 'Documentary']                ['Romance', 'Drama']           ['Comedy', 'Documentary']     ['Action', 'Crime', 'Thriller']               ['Comedy', 'Romance']      ['Drama', 'Crime', 'Thriller']            ['Drama', 'Documentary']     ['Drama', 'Thriller', 'Horror']                 ['Comedy', 'Drama']      ['Drama', 'Crime', 'Thriller']            ['Drama', 'Documentary']                 ['Comedy', 'Drama']      ['Comedy', 'Romance', 'Drama']            ['Drama', 'Documentary']      ['Comedy', 'Romance', 'Drama']                  ['Drama', 'Crime']              ['Adventure', 'Drama']      ['Comedy', 'Romance', 'Crime']      ['Drama', 'Crime', 'Thriller'] ['Comedy', 'Action', 'Thriller', 'Horror']      ['Comedy', 'Romance', 'Drama']       ['Romance', 'Drama', 'Crime'] ['Drama', 'Crime', 'Thriller', 'Horror', 'Mystery'] ['Action', 'Drama', 'Crime', 'Thriller']                     ['Documentary']                 ['Comedy', 'Drama'] ['Action', 'Crime', 'Thriller', 'Mystery']     ['Comedy', 'Action', 'Romance']            ['Drama', 'Documentary']      ['Comedy', 'Romance', 'Drama'] ['Action', 'Drama', 'Crime', 'Thriller']               ['Comedy', 'Romance']      ['Drama', 'Crime', 'Thriller']        ['Comedy', 'Drama', 'Crime']                          ['Comedy']                          ['Comedy']     ['Drama', 'Thriller', 'Horror']                           ['Drama']   ['Adventure', 'Comedy', 'Action']                 ['Comedy', 'Drama']                 ['Comedy', 'Drama']               ['Comedy', 'Romance']      ['Comedy', 'Romance', 'Drama']                     ['Documentary']                 ['Drama', 'Horror']                 ['Comedy', 'Drama']                           ['Drama']                          ['Comedy']                 ['Comedy', 'Drama'] ['Adventure', 'Action', 'Drama', 'Thriller']        ['Comedy', 'Drama', 'Crime']                 ['Comedy', 'Drama']      ['Comedy', 'Romance', 'Drama']             ['Adventure', 'Comedy']        ['Comedy', 'Drama', 'Crime']                ['Romance', 'Drama']                          ['Comedy']            ['Drama', 'Documentary']      ['Drama', 'Horror', 'Mystery']                ['Romance', 'Drama'] ['Action', 'Drama', 'Crime', 'Thriller']                          ['Comedy']               ['Drama', 'Thriller']                 ['Comedy', 'Drama']     ['Crime', 'Thriller', 'Horror']            ['Drama', 'Documentary']                 ['Comedy', 'Drama']                 ['Comedy', 'Drama']      ['Comedy', 'Romance', 'Drama']            ['Drama', 'Documentary']      ['Drama', 'Crime', 'Thriller']     ['Comedy', 'Action', 'Romance']                 ['Comedy', 'Drama']     ['Romance', 'Drama', 'Mystery']                          ['Action']      ['Comedy', 'Romance', 'Drama'] ['Action', 'Drama', 'Crime', 'Thriller']        ['Comedy', 'Drama', 'Crime']                  ['Drama', 'Crime']                 ['Comedy', 'Drama']      ['Drama', 'Crime', 'Thriller']                ['Romance', 'Drama']                ['Action', 'Horror']                          ['Comedy']               ['Comedy', 'Romance']                 ['Comedy', 'Drama']                 ['Action', 'Drama']     ['Action', 'Crime', 'Thriller']                     ['Documentary']    ['Action', 'Thriller', 'Horror']                          ['Comedy']             ['Adventure', 'Action']               ['Comedy', 'Romance']               ['Comedy', 'Romance']               ['Comedy', 'Romance'] ['Adventure', 'Action', 'Romance', 'Drama']   ['Adventure', 'Comedy', 'Action']      ['Comedy', 'Romance', 'Drama']            ['Drama', 'Documentary']      ['Drama', 'Crime', 'Thriller']      ['Comedy', 'Romance', 'Drama']               ['Drama', 'Thriller']                     ['Documentary']             ['Adventure', 'Comedy']                  ['Drama', 'Crime']        ['Adventure', 'Documentary']                           ['Drama']      ['Comedy', 'Romance', 'Drama']      ['Comedy', 'Romance', 'Drama']                     ['Documentary']  ['Comedy', 'Drama', 'Documentary']              ['Action', 'Thriller']            ['Drama', 'Documentary']    ['Comedy', 'Action', 'Thriller']    ['Drama', 'Thriller', 'Mystery']             ['Adventure', 'Action']   ['Adventure', 'Action', 'Horror']                 ['Comedy', 'Drama']                          ['Comedy'] ['Action', 'Crime', 'Thriller', 'Horror'] ['Drama', 'Crime', 'Thriller', 'Mystery']                 ['Comedy', 'Drama']                          ['Comedy']                ['Romance', 'Drama'] ['Action', 'Crime', 'Thriller', 'Horror'] ['Romance', 'Drama', 'Crime', 'Thriller', 'Mystery'] ['Adventure', 'Comedy', 'Romance', 'Drama']        ['Comedy', 'Drama', 'Crime']     ['Drama', 'Thriller', 'Horror']       ['Comedy', 'Action', 'Crime']                 ['Comedy', 'Drama']      ['Comedy', 'Romance', 'Drama']      ['Comedy', 'Romance', 'Drama'] ['Action', 'Drama', 'Crime', 'Thriller']             ['Adventure', 'Action']                 ['Comedy', 'Drama']                           ['Drama'] ['Action', 'Romance', 'Drama', 'Crime', 'Thriller'] ['Drama', 'Thriller', 'Documentary'] ['Romance', 'Drama', 'Documentary']                 ['Comedy', 'Drama']                ['Romance', 'Drama']                ['Action', 'Horror'] ['Comedy', 'Romance', 'Documentary']    ['Action', 'Thriller', 'Horror']      ['Drama', 'Crime', 'Thriller']                ['Romance', 'Drama']                           ['Drama']              ['Thriller', 'Horror']                 ['Action', 'Crime']      ['Comedy', 'Romance', 'Drama']      ['Comedy', 'Romance', 'Drama']                 ['Comedy', 'Drama']                 ['Comedy', 'Drama'] ['Drama', 'Crime', 'Thriller', 'Horror']           ['Comedy', 'Documentary']             ['Adventure', 'Action']                           ['Drama']  ['Comedy', 'Drama', 'Documentary']               ['Comedy', 'Romance']                           ['Drama']                 ['Comedy', 'Crime']  ['Comedy', 'Drama', 'Documentary'] ['Comedy', 'Romance', 'Drama', 'Crime']    ['Adventure', 'Action', 'Crime']                 ['Comedy', 'Drama']                 ['Comedy', 'Drama']                 ['Comedy', 'Drama']                           ['Drama']      ['Drama', 'Crime', 'Thriller']                ['Comedy', 'Horror']                           ['Drama']      ['Drama', 'Crime', 'Thriller']              ['Thriller', 'Horror']      ['Comedy', 'Action', 'Horror']                     ['Documentary']                ['Romance', 'Drama']                          ['Comedy']                 ['Comedy', 'Drama']                ['Romance', 'Drama']      ['Comedy', 'Romance', 'Drama']      ['Comedy', 'Romance', 'Drama']                 ['Comedy', 'Drama']                 ['Action', 'Drama']            ['Drama', 'Documentary']                ['Romance', 'Drama']   ['Adventure', 'Action', 'Horror']             ['Adventure', 'Action']                           ['Drama']            ['Drama', 'Documentary'] ['Action', 'Thriller', 'Horror', 'Mystery']                          ['Comedy'] ['Drama', 'Thriller', 'Horror', 'Mystery']    ['Adventure', 'Action', 'Drama'] ['Drama', 'Crime', 'Thriller', 'Mystery']                 ['Comedy', 'Drama']                ['Action', 'Horror']                 ['Comedy', 'Drama']            ['Drama', 'Documentary']      ['Drama', 'Crime', 'Thriller']      ['Drama', 'Crime', 'Thriller']      ['Comedy', 'Romance', 'Drama'] ['Action', 'Drama', 'Crime', 'Thriller'] ['Comedy', 'Crime', 'Horror', 'Mystery']                ['Romance', 'Drama']                           ['Drama']      ['Drama', 'Crime', 'Thriller']                  ['Drama', 'Crime']             ['Adventure', 'Comedy']               ['Comedy', 'Romance']               ['Drama', 'Thriller']           ['Comedy', 'Documentary'] ['Comedy', 'Romance', 'Drama', 'Crime']                     ['Documentary'] ['Drama', 'Crime', 'Thriller', 'Horror', 'Mystery']                          ['Comedy']                 ['Drama', 'Horror']                ['Romance', 'Drama']                          ['Comedy']                 ['Comedy', 'Drama']    ['Drama', 'Thriller', 'Mystery']      ['Comedy', 'Romance', 'Drama']           ['Comedy', 'Documentary']   ['Adventure', 'Comedy', 'Action']               ['Comedy', 'Romance']                ['Romance', 'Drama']       ['Comedy', 'Action', 'Crime']                     ['Documentary']            ['Drama', 'Documentary']    ['Comedy', 'Action', 'Thriller']               ['Drama', 'Thriller'] ['Action', 'Crime', 'Thriller', 'Horror']                           ['Drama']               ['Comedy', 'Romance']                           ['Drama']                 ['Drama', 'Horror']      ['Comedy', 'Action', 'Horror']             ['Adventure', 'Action']                           ['Drama']           ['Comedy', 'Documentary']             ['Adventure', 'Action']                 ['Comedy', 'Drama']       ['Comedy', 'Action', 'Crime']                ['Romance', 'Drama']    ['Romance', 'Drama', 'Thriller']                           ['Drama']     ['Drama', 'Thriller', 'Horror']                  ['Drama', 'Crime']                ['Comedy', 'Action']            ['Drama', 'Documentary']                           ['Drama']                 ['Comedy', 'Drama']      ['Drama', 'Crime', 'Thriller']                           ['Drama']      ['Drama', 'Crime', 'Thriller']                ['Romance', 'Drama']   ['Thriller', 'Horror', 'Mystery']      ['Comedy', 'Romance', 'Drama']        ['Drama', 'Crime', 'Horror']      ['Comedy', 'Romance', 'Drama']                  ['Drama', 'Crime']                     ['Documentary']      ['Comedy', 'Romance', 'Drama'] ['Comedy', 'Action', 'Drama', 'Crime']     ['Action', 'Crime', 'Thriller']    ['Adventure', 'Comedy', 'Drama']                          ['Horror'] ['Action', 'Crime', 'Thriller', 'Horror', 'Mystery'] ['Adventure', 'Action', 'Romance', 'Drama']        ['Adventure', 'Documentary']                 ['Comedy', 'Drama']                  ['Drama', 'Crime'] ['Action', 'Drama', 'Crime', 'Thriller']                ['Romance', 'Drama']             ['Adventure', 'Action']                           ['Drama']    ['Adventure', 'Action', 'Drama'] ['Comedy', 'Action', 'Crime', 'Thriller']               ['Comedy', 'Romance']                           ['Drama'] ['Crime', 'Thriller', 'Horror', 'Mystery']  ['Comedy', 'Drama', 'Documentary']    ['Romance', 'Drama', 'Thriller']                           ['Drama']                          ['Comedy']      ['Comedy', 'Romance', 'Drama']                  ['Drama', 'Crime']                ['Romance', 'Drama']           ['Comedy', 'Documentary']       ['Comedy', 'Action', 'Crime'] ['Adventure', 'Action', 'Thriller']    ['Action', 'Thriller', 'Horror'] ['Comedy', 'Action', 'Drama', 'Crime']       ['Comedy', 'Action', 'Crime']               ['Drama', 'Thriller']  ['Comedy', 'Drama', 'Documentary'] ['Action', 'Drama', 'Crime', 'Thriller']            ['Drama', 'Documentary']     ['Comedy', 'Action', 'Romance']               ['Comedy', 'Romance']               ['Drama', 'Thriller']   ['Adventure', 'Action', 'Horror']             ['Adventure', 'Comedy']                          ['Comedy']   ['Drama', 'Crime', 'Documentary'] ['Comedy', 'Drama', 'Crime', 'Thriller'] ['Action', 'Drama', 'Crime', 'Thriller']  ['Comedy', 'Crime', 'Documentary']             ['Adventure', 'Comedy']    ['Action', 'Thriller', 'Horror']                 ['Action', 'Crime']                           ['Drama']                           ['Drama']      ['Drama', 'Crime', 'Thriller']    ['Romance', 'Drama', 'Thriller']   ['Adventure', 'Action', 'Horror'] ['Adventure', 'Comedy', 'Action', 'Crime']   ['Adventure', 'Comedy', 'Action']                ['Romance', 'Drama']       ['Comedy', 'Action', 'Crime']           ['Horror', 'Documentary']                     ['Documentary']                          ['Comedy']                          ['Comedy'] ['Action', 'Drama', 'Crime', 'Thriller']        ['Comedy', 'Drama', 'Crime']           ['Action', 'Documentary']                 ['Comedy', 'Drama']                ['Comedy', 'Horror'] ['Action', 'Crime', 'Thriller', 'Horror']      ['Comedy', 'Romance', 'Drama']                                  []                 ['Comedy', 'Drama']        ['Comedy', 'Drama', 'Crime']  ['Comedy', 'Drama', 'Documentary']        ['Action', 'Drama', 'Crime']      ['Drama', 'Crime', 'Thriller']            ['Drama', 'Documentary']                           ['Drama']   ['Thriller', 'Horror', 'Mystery']    ['Action', 'Thriller', 'Horror']                           ['Drama']       ['Comedy', 'Action', 'Crime']                 ['Comedy', 'Drama']           ['Comedy', 'Documentary']                          ['Horror']       ['Comedy', 'Action', 'Crime'] ['Romance', 'Drama', 'Thriller', 'Mystery'] ['Adventure', 'Action', 'Thriller', 'Horror']        ['Comedy', 'Drama', 'Crime']                  ['Drama', 'Crime']             ['Adventure', 'Horror']  ['Comedy', 'Drama', 'Documentary']   ['Thriller', 'Horror', 'Mystery']                     ['Documentary'] ['Comedy', 'Romance', 'Drama', 'Crime']              ['Thriller', 'Horror']     ['Action', 'Drama', 'Thriller'] ['Adventure', 'Comedy', 'Romance', 'Drama']                           ['Drama']        ['Comedy', 'Drama', 'Crime']                 ['Comedy', 'Drama']                ['Romance', 'Drama'] ['Action', 'Crime', 'Thriller', 'Horror']                 ['Comedy', 'Crime'] ['Drama', 'Crime', 'Thriller', 'Horror', 'Mystery']                 ['Comedy', 'Drama']                ['Comedy', 'Action']      ['Comedy', 'Romance', 'Drama']                 ['Drama', 'Horror']   ['Thriller', 'Horror', 'Mystery']            ['Drama', 'Documentary']                           ['Drama']                           ['Drama']                  ['Drama', 'Crime']                 ['Comedy', 'Drama']    ['Action', 'Thriller', 'Horror']                ['Romance', 'Drama']                          ['Comedy']       ['Action', 'Drama', 'Horror']                           ['Drama']        ['Comedy', 'Drama', 'Crime']             ['Adventure', 'Comedy']                ['Romance', 'Drama']    ['Romance', 'Drama', 'Thriller']                 ['Comedy', 'Drama']      ['Drama', 'Crime', 'Thriller']      ['Comedy', 'Romance', 'Drama']              ['Action', 'Thriller']              ['Thriller', 'Horror']      ['Comedy', 'Romance', 'Drama']               ['Comedy', 'Romance'] ['Adventure', 'Action', 'Thriller', 'Horror']      ['Comedy', 'Romance', 'Crime']                ['Comedy', 'Horror']  ['Comedy', 'Drama', 'Documentary']   ['Thriller', 'Horror', 'Mystery']   ['Action', 'Thriller', 'Mystery']   ['Adventure', 'Comedy', 'Action']                 ['Comedy', 'Drama']                          ['Comedy'] ['Action', 'Drama', 'Crime', 'Thriller']       ['Romance', 'Drama', 'Crime']                 ['Action', 'Drama']        ['Comedy', 'Drama', 'Crime']       ['Comedy', 'Action', 'Drama'] ['Drama', 'Crime', 'Thriller', 'Horror', 'Mystery']                           ['Drama']                          ['Comedy']                           ['Drama']   ['Adventure', 'Comedy', 'Action']                          ['Comedy']               ['Comedy', 'Romance']              ['Action', 'Thriller']      ['Comedy', 'Romance', 'Drama']                          ['Comedy']                          ['Horror']    ['Action', 'Thriller', 'Horror']                 ['Comedy', 'Drama']            ['Drama', 'Documentary']                           ['Drama']     ['Crime', 'Thriller', 'Horror']        ['Comedy', 'Drama', 'Crime']                 ['Comedy', 'Drama']               ['Drama', 'Thriller']                           ['Drama']                 ['Comedy', 'Drama']      ['Comedy', 'Romance', 'Drama']     ['Action', 'Crime', 'Thriller']    ['Romance', 'Drama', 'Thriller'] ['Adventure', 'Action', 'Thriller', 'Horror']      ['Action', 'Romance', 'Drama']           ['Comedy', 'Documentary'] ['Comedy', 'Action', 'Crime', 'Thriller']     ['Drama', 'Thriller', 'Horror']      ['Drama', 'Crime', 'Thriller']     ['Crime', 'Thriller', 'Horror']                           ['Drama']                 ['Comedy', 'Drama'] ['Action', 'Drama', 'Crime', 'Thriller']                ['Romance', 'Drama']      ['Comedy', 'Romance', 'Drama']                           ['Drama']     ['Action', 'Crime', 'Thriller'] ['Action', 'Drama', 'Crime', 'Thriller']                 ['Comedy', 'Drama'] ['Action', 'Drama', 'Crime', 'Thriller']        ['Drama', 'Crime', 'Horror']                ['Action', 'Horror']     ['Drama', 'Thriller', 'Horror']            ['Drama', 'Documentary']                          ['Comedy']   ['Adventure', 'Action', 'Horror']      ['Comedy', 'Romance', 'Drama']     ['Drama', 'Thriller', 'Horror']  ['Comedy', 'Drama', 'Documentary']      ['Drama', 'Crime', 'Thriller']                ['Romance', 'Drama']        ['Comedy', 'Drama', 'Crime']                 ['Comedy', 'Drama']      ['Drama', 'Crime', 'Thriller']                           ['Drama']      ['Drama', 'Crime', 'Thriller']                          ['Comedy'] ['Romance', 'Drama', 'Crime', 'Thriller']            ['Drama', 'Documentary']                 ['Comedy', 'Drama']      ['Comedy', 'Romance', 'Drama']     ['Action', 'Crime', 'Thriller']            ['Drama', 'Documentary']                ['Romance', 'Drama']      ['Drama', 'Crime', 'Thriller']                 ['Action', 'Drama']                 ['Comedy', 'Drama']                          ['Comedy'] ['Action', 'Romance', 'Drama', 'Crime']      ['Comedy', 'Romance', 'Drama']                ['Comedy', 'Horror']                     ['Documentary']                 ['Drama', 'Horror']                ['Romance', 'Drama'] ['Comedy', 'Action', 'Crime', 'Documentary']      ['Comedy', 'Romance', 'Drama']            ['Drama', 'Documentary']    ['Action', 'Thriller', 'Horror']                ['Romance', 'Drama']                          ['Comedy']                 ['Comedy', 'Drama']     ['Drama', 'Thriller', 'Horror']     ['Action', 'Crime', 'Thriller']    ['Drama', 'Thriller', 'Mystery'] ['Comedy', 'Romance', 'Drama', 'Crime']                     ['Documentary']              ['Thriller', 'Horror']        ['Comedy', 'Drama', 'Crime']                     ['Documentary']                ['Romance', 'Drama']                          ['Action'] ['Comedy', 'Crime', 'Thriller', 'Horror']                           ['Drama']                           ['Drama']      ['Action', 'Romance', 'Drama']                 ['Comedy', 'Drama']      ['Drama', 'Crime', 'Thriller']                           ['Drama'] ['Adventure', 'Comedy', 'Action', 'Horror']                           ['Drama']                 ['Drama', 'Horror']                           ['Drama']                           ['Drama']      ['Drama', 'Crime', 'Thriller']   ['Adventure', 'Comedy', 'Horror']      ['Drama', 'Crime', 'Thriller']               ['Horror', 'Mystery'] ['Comedy', 'Action', 'Romance', 'Drama']                     ['Documentary']                ['Romance', 'Drama'] ['Comedy', 'Romance', 'Drama', 'Crime', 'Thriller']    ['Romance', 'Drama', 'Thriller']      ['Drama', 'Crime', 'Thriller']      ['Drama', 'Crime', 'Thriller'] ['Drama', 'Crime', 'Thriller', 'Horror', 'Mystery']     ['Drama', 'Thriller', 'Horror']    ['Romance', 'Drama', 'Thriller']                ['Romance', 'Drama'] ['Romance', 'Drama', 'Crime', 'Thriller']                 ['Comedy', 'Drama'] ['Action', 'Drama', 'Crime', 'Thriller']                ['Romance', 'Drama']                ['Comedy', 'Action']      ['Drama', 'Crime', 'Thriller']                  ['Drama', 'Crime']              ['Thriller', 'Horror']                     ['Documentary']   ['Adventure', 'Comedy', 'Action']                           ['Drama']              ['Thriller', 'Horror']                          ['Comedy']      ['Comedy', 'Romance', 'Drama'] ['Comedy', 'Action', 'Drama', 'Crime']                 ['Comedy', 'Drama']              ['Adventure', 'Drama']              ['Adventure', 'Drama'] ['Adventure', 'Comedy', 'Action', 'Horror']       ['Romance', 'Drama', 'Crime']                ['Action', 'Horror']                 ['Comedy', 'Drama']                ['Comedy', 'Horror']   ['Adventure', 'Comedy', 'Action'] ['Action', 'Drama', 'Crime', 'Thriller']           ['Comedy', 'Documentary'] ['Comedy', 'Romance', 'Drama', 'Crime']       ['Romance', 'Drama', 'Crime']                           ['Drama']               ['Drama', 'Thriller']               ['Drama', 'Thriller']              ['Thriller', 'Horror']                     ['Documentary']        ['Comedy', 'Drama', 'Crime']                 ['Drama', 'Horror']             ['Adventure', 'Comedy']              ['Action', 'Thriller']                     ['Documentary']      ['Action', 'Romance', 'Drama']                ['Romance', 'Drama']             ['Adventure', 'Comedy']       ['Comedy', 'Action', 'Drama'] ['Romance', 'Drama', 'Crime', 'Thriller']                          ['Action']       ['Comedy', 'Action', 'Drama']            ['Drama', 'Documentary']                          ['Horror']               ['Drama', 'Thriller']                     ['Documentary']               ['Drama', 'Thriller']                           ['Drama']      ['Drama', 'Crime', 'Thriller']           ['Comedy', 'Documentary']                     ['Documentary']\n",
            "GroundTruth:                            ['Drama']                ['Romance', 'Drama']                 ['Action', 'Drama']                           ['Drama']                ['Romance', 'Drama']      ['Romance', 'Drama', 'Horror']                 ['Comedy', 'Crime']                          ['Comedy']                          ['Comedy']                           ['Drama']                           ['Drama']                ['Romance', 'Drama']                           ['Drama']      ['Comedy', 'Romance', 'Drama']               ['Crime', 'Thriller']                          ['Comedy']                 ['Comedy', 'Drama']                 ['Drama', 'Horror']                 ['Comedy', 'Drama']                           ['Drama']                     ['Documentary']                     ['Documentary']                          ['Comedy']  ['Adventure', 'Action', 'Romance']                 ['Comedy', 'Crime']    ['Adventure', 'Action', 'Crime']                     ['Documentary']             ['Adventure', 'Comedy']               ['Drama', 'Thriller']                           ['Drama']               ['Horror', 'Mystery']                        ['Thriller']                ['Romance', 'Drama']                           ['Drama']                  ['Drama', 'Crime']      ['Comedy', 'Crime', 'Mystery']              ['Adventure', 'Drama']       ['Comedy', 'Action', 'Crime']      ['Comedy', 'Romance', 'Drama']                ['Romance', 'Drama']     ['Drama', 'Thriller', 'Horror']                          ['Comedy']             ['Adventure', 'Action']                     ['Documentary']                 ['Comedy', 'Drama']                           ['Drama']                          ['Action']                          ['Action']                     ['Documentary']        ['Comedy', 'Drama', 'Crime']                           ['Drama']                     ['Documentary']                          ['Horror']                     ['Documentary']                           ['Drama']                           ['Drama']               ['Comedy', 'Romance']                           ['Drama']                          ['Comedy']                           ['Drama']                           ['Drama']                     ['Documentary']                           ['Drama']      ['Comedy', 'Romance', 'Drama']                ['Comedy', 'Action']              ['Thriller', 'Horror']                ['Romance', 'Drama']                          ['Comedy']      ['Comedy', 'Romance', 'Drama']    ['Action', 'Thriller', 'Horror']   ['Adventure', 'Comedy', 'Action']                        ['Thriller']                          ['Action']                  ['Drama', 'Crime']                     ['Documentary']                           ['Drama']                           ['Crime']                           ['Drama']                 ['Comedy', 'Drama']                           ['Drama']                           ['Drama']             ['Adventure', 'Comedy']                     ['Documentary']                           ['Drama']             ['Adventure', 'Action']                     ['Documentary']             ['Adventure', 'Comedy']   ['Romance', 'Thriller', 'Horror']                 ['Comedy', 'Drama']              ['Action', 'Thriller']                           ['Drama']                     ['Documentary']                          ['Comedy']       ['Drama', 'Crime', 'Mystery']       ['Comedy', 'Action', 'Crime']                 ['Comedy', 'Drama']                     ['Documentary']               ['Crime', 'Thriller']     ['Action', 'Drama', 'Thriller']                ['Romance', 'Drama']                ['Romance', 'Drama']                           ['Drama']               ['Drama', 'Thriller']        ['Drama', 'Crime', 'Horror']                     ['Documentary']               ['Drama', 'Thriller']                           ['Drama']      ['Comedy', 'Action', 'Horror']       ['Comedy', 'Drama', 'Horror']       ['Comedy', 'Action', 'Crime']                     ['Documentary']                ['Crime', 'Mystery']          ['Romance', 'Documentary']       ['Comedy', 'Action', 'Crime']              ['Thriller', 'Horror']                          ['Comedy']    ['Adventure', 'Comedy', 'Drama']                          ['Comedy']    ['Adventure', 'Action', 'Drama']                           ['Drama']               ['Comedy', 'Romance']                           ['Drama']      ['Comedy', 'Romance', 'Drama']                       ['Adventure']        ['Comedy', 'Drama', 'Crime']    ['Adventure', 'Action', 'Drama']                          ['Comedy']                          ['Comedy']                ['Comedy', 'Action']       ['Comedy', 'Action', 'Crime']                     ['Documentary']             ['Adventure', 'Comedy']                          ['Comedy']                          ['Comedy']                           ['Drama']             ['Thriller', 'Mystery']                           ['Drama']               ['Drama', 'Thriller']                ['Romance', 'Drama']     ['Drama', 'Thriller', 'Horror']                          ['Horror']           ['Comedy', 'Documentary']                           ['Drama']       ['Drama', 'Crime', 'Mystery']               ['Drama', 'Thriller']                          ['Comedy']    ['Adventure', 'Comedy', 'Drama']                          ['Comedy']                           ['Drama']                     ['Documentary']    ['Adventure', 'Action', 'Drama']    ['Comedy', 'Action', 'Thriller']        ['Action', 'Drama', 'Crime']                          ['Comedy']                  ['Drama', 'Crime']              ['Thriller', 'Horror']                     ['Documentary']             ['Adventure', 'Action']                     ['Documentary']                 ['Comedy', 'Crime']                ['Romance', 'Drama']                           ['Drama']      ['Comedy', 'Romance', 'Drama']                     ['Documentary']           ['Comedy', 'Documentary']                 ['Comedy', 'Drama']      ['Comedy', 'Romance', 'Drama']                          ['Comedy']                          ['Comedy']               ['Comedy', 'Romance']                          ['Comedy']             ['Adventure', 'Comedy']                ['Romance', 'Drama']                           ['Drama']             ['Adventure', 'Comedy']        ['Adventure', 'Documentary']                        ['Thriller']                ['Comedy', 'Action']             ['Adventure', 'Comedy']                     ['Documentary']      ['Comedy', 'Romance', 'Drama']                          ['Comedy']                ['Romance', 'Drama']              ['Thriller', 'Horror']      ['Comedy', 'Romance', 'Drama']                           ['Drama']             ['Adventure', 'Comedy']                 ['Comedy', 'Drama']                ['Romance', 'Drama']                       ['Adventure']                ['Romance', 'Drama']                     ['Documentary']             ['Adventure', 'Comedy']                           ['Drama']      ['Comedy', 'Romance', 'Drama']                        ['Thriller']      ['Comedy', 'Romance', 'Drama']     ['Action', 'Crime', 'Thriller']                          ['Comedy']     ['Drama', 'Thriller', 'Horror']                ['Romance', 'Drama']                          ['Comedy']                     ['Documentary']              ['Thriller', 'Horror']                ['Romance', 'Drama']                           ['Drama']   ['Romance', 'Thriller', 'Horror']            ['Drama', 'Documentary']                ['Romance', 'Drama']                 ['Action', 'Drama']                     ['Documentary']                          ['Comedy']               ['Comedy', 'Romance']                     ['Documentary']                           ['Drama']                          ['Horror']                     ['Documentary']   ['Adventure', 'Comedy', 'Action']       ['Comedy', 'Action', 'Crime']                     ['Documentary']     ['Action', 'Drama', 'Thriller']                ['Romance', 'Drama']                           ['Drama']     ['Action', 'Crime', 'Thriller']                        ['Thriller']              ['Thriller', 'Horror']           ['Comedy', 'Documentary']                           ['Drama']                           ['Drama']                ['Drama', 'Mystery']                 ['Comedy', 'Drama']     ['Drama', 'Thriller', 'Horror']                ['Comedy', 'Horror']                          ['Comedy']      ['Drama', 'Crime', 'Thriller']                       ['Adventure']                        ['Thriller']             ['Adventure', 'Action']                     ['Documentary']                       ['Adventure']        ['Action', 'Drama', 'Crime']     ['Action', 'Crime', 'Thriller']                          ['Comedy']        ['Action', 'Drama', 'Crime']                          ['Comedy']                     ['Documentary']      ['Comedy', 'Romance', 'Drama']            ['Drama', 'Documentary']      ['Comedy', 'Romance', 'Drama']                 ['Comedy', 'Drama']                          ['Comedy']             ['Adventure', 'Comedy']               ['Comedy', 'Romance']      ['Romance', 'Drama', 'Horror']                        ['Thriller']      ['Comedy', 'Romance', 'Drama']       ['Drama', 'Crime', 'Mystery']                           ['Drama']                     ['Documentary']                 ['Comedy', 'Drama']        ['Comedy', 'Drama', 'Crime']      ['Comedy', 'Romance', 'Drama']               ['Crime', 'Thriller']              ['Adventure', 'Drama']                ['Romance', 'Drama']                           ['Drama']                           ['Drama']                ['Action', 'Horror']                ['Romance', 'Drama']                 ['Drama', 'Horror']                           ['Drama']      ['Comedy', 'Romance', 'Drama']   ['Adventure', 'Comedy', 'Action']    ['Crime', 'Thriller', 'Mystery']                     ['Documentary']      ['Comedy', 'Romance', 'Drama']                ['Drama', 'Mystery']                 ['Comedy', 'Drama']                 ['Action', 'Drama']       ['Comedy', 'Action', 'Crime']              ['Thriller', 'Horror']                           ['Drama']                           ['Drama']       ['Comedy', 'Action', 'Crime']                 ['Comedy', 'Crime']               ['Drama', 'Thriller']                           ['Drama']     ['Action', 'Crime', 'Thriller']                ['Romance', 'Drama']                           ['Drama']                          ['Comedy']               ['Comedy', 'Romance']                          ['Comedy']   ['Adventure', 'Action', 'Horror']             ['Adventure', 'Action']              ['Adventure', 'Drama']                          ['Comedy']                     ['Documentary']                 ['Comedy', 'Drama']                ['Romance', 'Drama']              ['Comedy', 'Thriller']      ['Action', 'Drama', 'Mystery']               ['Comedy', 'Romance']    ['Adventure', 'Action', 'Drama']                           ['Drama']      ['Drama', 'Horror', 'Mystery']             ['Adventure', 'Action']       ['Drama', 'Crime', 'Mystery']                           ['Drama']               ['Comedy', 'Romance']                     ['Documentary']                 ['Action', 'Drama']                           ['Drama']     ['Drama', 'Thriller', 'Horror']                       ['Adventure']                          ['Comedy']                ['Romance', 'Drama'] ['Adventure', 'Comedy', 'Documentary']                          ['Horror']                          ['Action']                ['Romance', 'Drama']                     ['Documentary']                 ['Action', 'Drama']                          ['Comedy']              ['Thriller', 'Horror']      ['Action', 'Romance', 'Drama']                          ['Comedy']   ['Thriller', 'Horror', 'Mystery']           ['Comedy', 'Documentary']     ['Comedy', 'Action', 'Romance']                          ['Comedy']               ['Comedy', 'Romance']                     ['Documentary']                          ['Comedy']                          ['Comedy']      ['Drama', 'Crime', 'Thriller']              ['Comedy', 'Thriller']                 ['Comedy', 'Drama']                           ['Drama']                 ['Comedy', 'Drama']                     ['Documentary']               ['Comedy', 'Romance']                           ['Drama']                           ['Drama']               ['Comedy', 'Romance']                           ['Drama']                 ['Comedy', 'Drama']                          ['Comedy']                          ['Comedy']                ['Comedy', 'Action']                     ['Documentary']                          ['Comedy']              ['Action', 'Thriller']                ['Comedy', 'Horror']                     ['Documentary']                ['Comedy', 'Horror']      ['Comedy', 'Romance', 'Drama']                           ['Drama']               ['Horror', 'Mystery']                ['Romance', 'Drama']                          ['Comedy']                ['Romance', 'Drama']                          ['Action']                     ['Documentary']              ['Thriller', 'Horror']             ['Adventure', 'Comedy']                     ['Documentary']                ['Romance', 'Drama']                           ['Drama']                ['Romance', 'Drama']                 ['Comedy', 'Drama']              ['Thriller', 'Horror']           ['Comedy', 'Documentary']                 ['Comedy', 'Drama']                 ['Comedy', 'Drama']        ['Action', 'Drama', 'Crime']       ['Comedy', 'Action', 'Crime']                          ['Comedy']                           ['Drama']      ['Comedy', 'Romance', 'Drama']                ['Comedy', 'Action']                ['Romance', 'Drama']        ['Action', 'Drama', 'Crime']    ['Drama', 'Thriller', 'Mystery']                           ['Drama']                ['Romance', 'Drama']               ['Horror', 'Mystery']       ['Drama', 'Crime', 'Mystery']            ['Drama', 'Documentary']                       ['Adventure']                 ['Comedy', 'Drama']                ['Romance', 'Drama']                           ['Drama']    ['Drama', 'Thriller', 'Mystery']                          ['Comedy']                          ['Comedy']                 ['Action', 'Drama']                     ['Documentary']                           ['Drama']                ['Romance', 'Drama']      ['Comedy', 'Romance', 'Crime'] ['Comedy', 'Action', 'Documentary']      ['Comedy', 'Romance', 'Drama']                 ['Action', 'Crime']      ['Comedy', 'Romance', 'Drama']                 ['Action', 'Drama']                          ['Horror']                     ['Documentary']                 ['Comedy', 'Drama']             ['Adventure', 'Comedy']                           ['Drama']              ['Thriller', 'Horror']       ['Comedy', 'Action', 'Crime']                          ['Comedy']                ['Drama', 'Mystery']                     ['Documentary']            ['Crime', 'Documentary']      ['Crime', 'Horror', 'Mystery']    ['Adventure', 'Action', 'Crime']                 ['Comedy', 'Drama']       ['Comedy', 'Action', 'Crime']                          ['Comedy']                ['Romance', 'Drama']               ['Comedy', 'Romance']              ['Thriller', 'Horror']                           ['Drama']                           ['Drama']                           ['Drama']                       ['Adventure']                          ['Comedy']                          ['Comedy']                 ['Action', 'Drama']                ['Romance', 'Drama']                           ['Drama']                 ['Comedy', 'Drama']    ['Adventure', 'Action', 'Drama']                     ['Documentary']                ['Romance', 'Drama']      ['Comedy', 'Romance', 'Drama']             ['Adventure', 'Action']                     ['Documentary']                 ['Action', 'Drama']     ['Comedy', 'Romance', 'Horror']                 ['Comedy', 'Drama']                           ['Drama']                          ['Comedy']                           ['Drama']                     ['Documentary']                 ['Comedy', 'Crime']                ['Drama', 'Mystery']                          ['Comedy']                 ['Comedy', 'Crime']                           ['Drama']    ['Comedy', 'Thriller', 'Horror']                ['Comedy', 'Horror']      ['Comedy', 'Romance', 'Drama']                 ['Comedy', 'Drama']            ['Drama', 'Documentary']                ['Romance', 'Drama']                ['Romance', 'Drama']                ['Comedy', 'Horror']                     ['Documentary']              ['Action', 'Thriller']                          ['Comedy']                           ['Drama']              ['Thriller', 'Horror']                 ['Comedy', 'Drama']              ['Action', 'Thriller']                     ['Documentary']    ['Crime', 'Thriller', 'Mystery']                          ['Comedy']                          ['Horror']      ['Drama', 'Crime', 'Thriller']       ['Drama', 'Crime', 'Mystery']      ['Drama', 'Crime', 'Thriller']                ['Drama', 'Mystery']                 ['Comedy', 'Drama']      ['Drama', 'Crime', 'Thriller']       ['Comedy', 'Action', 'Crime']                          ['Comedy']                          ['Comedy']                     ['Documentary']      ['Drama', 'Crime', 'Thriller']                 ['Comedy', 'Drama']                           ['Drama']                     ['Documentary']                ['Romance', 'Drama']       ['Comedy', 'Action', 'Crime']                ['Romance', 'Drama']      ['Comedy', 'Romance', 'Drama']                     ['Documentary']                          ['Comedy']                     ['Documentary']                     ['Documentary']                       ['Adventure']                     ['Documentary']              ['Action', 'Thriller']                ['Romance', 'Drama']                          ['Comedy']                          ['Comedy']   ['Adventure', 'Comedy', 'Action']               ['Drama', 'Thriller']              ['Thriller', 'Horror']      ['Drama', 'Crime', 'Thriller']              ['Action', 'Thriller']                        ['Thriller']                ['Comedy', 'Horror']      ['Comedy', 'Drama', 'Mystery']    ['Adventure', 'Comedy', 'Crime']                ['Comedy', 'Horror']                           ['Drama']               ['Drama', 'Thriller']                           ['Drama']                 ['Drama', 'Horror']      ['Comedy', 'Romance', 'Drama']              ['Comedy', 'Thriller']               ['Drama', 'Thriller']                  ['Drama', 'Crime']      ['Comedy', 'Romance', 'Drama']                     ['Documentary']                           ['Drama']                           ['Drama']                           ['Drama']                     ['Documentary']                          ['Comedy']                          ['Action']                           ['Drama']       ['Drama', 'Crime', 'Mystery']               ['Comedy', 'Romance']   ['Thriller', 'Horror', 'Mystery']              ['Adventure', 'Drama']                ['Drama', 'Mystery']                ['Romance', 'Drama']                           ['Drama']      ['Comedy', 'Romance', 'Drama']                ['Romance', 'Drama']            ['Drama', 'Documentary']                           ['Drama']               ['Comedy', 'Romance']                           ['Drama']                ['Romance', 'Drama']                  ['Drama', 'Crime']             ['Adventure', 'Comedy']                           ['Drama']                           ['Drama']                     ['Documentary']                 ['Comedy', 'Drama']                           ['Drama']                           ['Drama']                           ['Drama']                       ['Adventure']                          ['Comedy']           ['Comedy', 'Documentary']            ['Drama', 'Documentary']                           ['Drama']                     ['Documentary']                 ['Comedy', 'Drama']                 ['Comedy', 'Drama']        ['Action', 'Drama', 'Crime']                           ['Crime']                     ['Documentary']        ['Drama', 'Crime', 'Horror']               ['Comedy', 'Romance']              ['Thriller', 'Horror']     ['Action', 'Crime', 'Thriller']                       ['Adventure']                           ['Drama']                           ['Drama'] ['Adventure', 'Action', 'Thriller']             ['Adventure', 'Action']                 ['Comedy', 'Drama']       ['Romance', 'Drama', 'Crime']              ['Action', 'Thriller']                           ['Drama']             ['Adventure', 'Action']                          ['Horror']                 ['Action', 'Drama']                           ['Drama']                           ['Drama']    ['Crime', 'Thriller', 'Mystery']   ['Adventure', 'Comedy', 'Action']                           ['Drama']               ['Comedy', 'Romance']                     ['Documentary']                          ['Action']                     ['Documentary']              ['Thriller', 'Horror']      ['Comedy', 'Romance', 'Crime']       ['Drama', 'Crime', 'Mystery']             ['Adventure', 'Action']                 ['Comedy', 'Drama']                           ['Drama']                           ['Drama']                           ['Drama']                ['Romance', 'Drama']        ['Adventure', 'Documentary']                           ['Drama']                 ['Comedy', 'Drama']               ['Drama', 'Thriller']                          ['Comedy']   ['Adventure', 'Comedy', 'Action']        ['Comedy', 'Drama', 'Crime']                           ['Drama']              ['Thriller', 'Horror']               ['Drama', 'Thriller']                          ['Comedy']        ['Drama', 'Crime', 'Horror']        ['Adventure', 'Documentary']                  ['Drama', 'Crime']                           ['Drama']                           ['Drama']                           ['Drama']                 ['Comedy', 'Drama']   ['Thriller', 'Horror', 'Mystery']        ['Action', 'Drama', 'Crime']              ['Adventure', 'Drama']                          ['Comedy']               ['Comedy', 'Romance']                        ['Thriller']      ['Drama', 'Crime', 'Thriller']                          ['Comedy']                           ['Drama']                          ['Comedy']                         ['Romance']        ['Comedy', 'Drama', 'Crime']                          ['Comedy']                     ['Documentary']             ['Adventure', 'Comedy']      ['Comedy', 'Romance', 'Drama']                           ['Drama']               ['Drama', 'Thriller']                ['Comedy', 'Action']                ['Romance', 'Drama']    ['Romance', 'Drama', 'Thriller']                ['Comedy', 'Horror']                          ['Comedy']      ['Drama', 'Crime', 'Thriller']     ['Action', 'Drama', 'Thriller']              ['Thriller', 'Horror']                ['Comedy', 'Action']                 ['Action', 'Drama']              ['Action', 'Thriller']                     ['Documentary']              ['Thriller', 'Horror']                     ['Documentary']                ['Comedy', 'Horror']      ['Comedy', 'Romance', 'Drama']                 ['Comedy', 'Drama']                ['Romance', 'Drama']                           ['Drama']                     ['Documentary']                           ['Drama']   ['Comedy', 'Thriller', 'Mystery']               ['Drama', 'Thriller']                          ['Comedy']                ['Romance', 'Drama']                 ['Action', 'Crime']                  ['Drama', 'Crime']              ['Thriller', 'Horror']                     ['Documentary']                ['Action', 'Horror']                     ['Documentary']                ['Comedy', 'Action']                ['Comedy', 'Horror']                ['Comedy', 'Horror']                     ['Documentary']       ['Comedy', 'Action', 'Drama']                          ['Comedy']                        ['Thriller']               ['Comedy', 'Romance']                ['Comedy', 'Action']             ['Adventure', 'Comedy']                          ['Horror']               ['Comedy', 'Romance']                           ['Drama']                           ['Drama']             ['Thriller', 'Mystery']               ['Comedy', 'Romance']              ['Action', 'Thriller']                ['Romance', 'Drama']              ['Action', 'Thriller']                           ['Drama']                           ['Drama']   ['Action', 'Romance', 'Thriller']        ['Comedy', 'Drama', 'Crime']                           ['Drama']                          ['Horror']      ['Comedy', 'Romance', 'Drama']                          ['Comedy']                 ['Comedy', 'Drama']                          ['Comedy']                     ['Documentary']                     ['Documentary']              ['Action', 'Thriller']                          ['Comedy']                          ['Action']            ['Drama', 'Documentary']                     ['Documentary']        ['Action', 'Drama', 'Crime']                           ['Drama']                           ['Drama']                     ['Documentary']                 ['Comedy', 'Drama']       ['Comedy', 'Action', 'Crime']                ['Romance', 'Drama']                          ['Comedy']                 ['Comedy', 'Crime']           ['Comedy', 'Documentary']               ['Drama', 'Thriller']      ['Comedy', 'Romance', 'Drama']                  ['Drama', 'Crime']                           ['Drama']                  ['Drama', 'Crime']                          ['Comedy']    ['Drama', 'Thriller', 'Mystery']                     ['Documentary']                  ['Drama', 'Crime']                           ['Drama']                ['Action', 'Horror']                           ['Drama']                     ['Documentary']                 ['Comedy', 'Drama']                          ['Comedy']                 ['Comedy', 'Drama']   ['Thriller', 'Horror', 'Mystery']                          ['Comedy']                 ['Comedy', 'Drama']                          ['Horror']        ['Action', 'Drama', 'Crime']                           ['Drama']                          ['Comedy']   ['Action', 'Romance', 'Thriller']                          ['Comedy']                     ['Documentary']    ['Drama', 'Thriller', 'Mystery']                           ['Drama']               ['Comedy', 'Romance']               ['Drama', 'Thriller']      ['Drama', 'Crime', 'Thriller']      ['Comedy', 'Romance', 'Drama']                          ['Comedy']                 ['Action', 'Drama']                ['Romance', 'Drama']                 ['Comedy', 'Crime']                ['Romance', 'Drama']    ['Adventure', 'Comedy', 'Drama']               ['Comedy', 'Romance']               ['Drama', 'Thriller']                           ['Drama']                  ['Drama', 'Crime']                           ['Drama']              ['Adventure', 'Drama']        ['Action', 'Drama', 'Crime']                           ['Drama']        ['Action', 'Drama', 'Crime']        ['Drama', 'Crime', 'Horror']                          ['Comedy']                           ['Drama']                          ['Comedy']               ['Comedy', 'Romance']                 ['Comedy', 'Drama']                           ['Drama']                 ['Comedy', 'Drama']                          ['Horror']      ['Comedy', 'Romance', 'Drama']     ['Action', 'Drama', 'Thriller']               ['Comedy', 'Romance']                     ['Documentary']       ['Comedy', 'Action', 'Crime']   ['Thriller', 'Horror', 'Mystery']                       ['Adventure']                           ['Drama']                           ['Drama']               ['Comedy', 'Romance']               ['Comedy', 'Romance']                           ['Drama']            ['Adventure', 'Romance']               ['Comedy', 'Romance']                     ['Documentary'] ['Adventure', 'Action', 'Documentary']               ['Comedy', 'Romance']       ['Comedy', 'Action', 'Crime']       ['Comedy', 'Action', 'Crime'] ['Romance', 'Drama', 'Documentary']                          ['Comedy']      ['Comedy', 'Romance', 'Drama']                           ['Drama']                          ['Horror']             ['Adventure', 'Comedy']                          ['Comedy']            ['Adventure', 'Mystery']    ['Romance', 'Drama', 'Thriller']      ['Drama', 'Crime', 'Thriller']                           ['Drama']             ['Thriller', 'Mystery']                 ['Comedy', 'Drama']   ['Thriller', 'Horror', 'Mystery']                          ['Comedy']      ['Comedy', 'Romance', 'Drama']                ['Comedy', 'Horror']                ['Romance', 'Drama']                ['Comedy', 'Horror']                           ['Drama']     ['Romance', 'Drama', 'Mystery']                        ['Thriller']               ['Comedy', 'Romance']               ['Comedy', 'Romance']      ['Drama', 'Crime', 'Thriller']                ['Comedy', 'Action']                  ['Drama', 'Crime']            ['Drama', 'Documentary']                           ['Drama']                           ['Drama']                          ['Comedy']                           ['Drama']                     ['Documentary']                       ['Adventure']            ['Drama', 'Documentary']     ['Action', 'Drama', 'Thriller']                       ['Adventure']                          ['Horror']              ['Thriller', 'Horror']             ['Adventure', 'Comedy']                          ['Comedy']                          ['Horror']                          ['Action']                        ['Thriller']               ['Comedy', 'Romance']                  ['Drama', 'Crime']              ['Adventure', 'Drama']     ['Action', 'Crime', 'Thriller']                          ['Comedy']                  ['Drama', 'Crime']                     ['Documentary']      ['Comedy', 'Romance', 'Drama']                     ['Documentary']                           ['Drama']                          ['Comedy']                ['Romance', 'Drama']             ['Adventure', 'Action']                          ['Horror']                           ['Drama']        ['Action', 'Drama', 'Crime']      ['Drama', 'Horror', 'Mystery']                          ['Horror']                          ['Comedy']                ['Romance', 'Drama']             ['Adventure', 'Horror']                     ['Documentary']                       ['Adventure']       ['Drama', 'Crime', 'Mystery']                     ['Documentary']    ['Crime', 'Thriller', 'Mystery']                          ['Horror']                          ['Comedy']      ['Comedy', 'Romance', 'Drama']                           ['Drama']                          ['Comedy']                           ['Drama']                          ['Horror']                 ['Comedy', 'Drama']           ['Adventure', 'Thriller']                           ['Drama']              ['Comedy', 'Thriller']                          ['Comedy']                 ['Action', 'Drama']                          ['Comedy']                 ['Comedy', 'Drama']      ['Comedy', 'Romance', 'Drama']                 ['Comedy', 'Drama']               ['Comedy', 'Romance']                ['Romance', 'Drama']                 ['Comedy', 'Drama']                           ['Drama']    ['Adventure', 'Action', 'Crime']                 ['Comedy', 'Drama']            ['Adventure', 'Romance']          ['Romance', 'Documentary']     ['Drama', 'Thriller', 'Horror']    ['Adventure', 'Action', 'Drama']                           ['Drama']                           ['Drama']                          ['Comedy']                           ['Drama']                 ['Comedy', 'Crime']  ['Comedy', 'Drama', 'Documentary']   ['Adventure', 'Comedy', 'Action']      ['Drama', 'Crime', 'Thriller']    ['Adventure', 'Action', 'Drama']                 ['Comedy', 'Drama']                           ['Drama']    ['Adventure', 'Action', 'Drama']                          ['Action']                     ['Documentary']            ['Crime', 'Documentary']                 ['Action', 'Crime']                     ['Documentary']                ['Drama', 'Mystery']                           ['Drama']                          ['Horror']                           ['Drama']                          ['Horror']                           ['Drama']                        ['Thriller']    ['Drama', 'Thriller', 'Mystery']                 ['Action', 'Drama']               ['Drama', 'Thriller']                           ['Drama']    ['Action', 'Thriller', 'Horror']                          ['Comedy']                          ['Horror']       ['Drama', 'Crime', 'Mystery']                        ['Thriller']                          ['Comedy']              ['Thriller', 'Horror']              ['Action', 'Thriller']                 ['Comedy', 'Drama']                          ['Comedy']                     ['Documentary']        ['Drama', 'Crime', 'Horror']           ['Horror', 'Documentary']                          ['Horror']                ['Romance', 'Drama']  ['Comedy', 'Drama', 'Documentary']                ['Action', 'Horror']                     ['Documentary']               ['Comedy', 'Romance']             ['Adventure', 'Action']    ['Adventure', 'Comedy', 'Drama']                  ['Drama', 'Crime']              ['Thriller', 'Horror']                          ['Comedy']                 ['Comedy', 'Drama']                     ['Documentary']     ['Action', 'Drama', 'Thriller']                        ['Thriller']                           ['Drama']                           ['Drama']               ['Comedy', 'Romance']                           ['Drama']                ['Comedy', 'Horror']                  ['Drama', 'Crime']             ['Adventure', 'Action']        ['Comedy', 'Drama', 'Crime']     ['Romance', 'Drama', 'Mystery']                          ['Comedy']               ['Drama', 'Thriller']        ['Action', 'Drama', 'Crime']                         ['Romance']     ['Romance', 'Drama', 'Mystery']                ['Drama', 'Mystery']                 ['Comedy', 'Drama']     ['Action', 'Crime', 'Thriller']                     ['Documentary']    ['Romance', 'Drama', 'Thriller']                ['Romance', 'Drama']      ['Comedy', 'Romance', 'Drama']                           ['Drama']                           ['Drama']              ['Thriller', 'Horror']                ['Romance', 'Drama']              ['Thriller', 'Horror']                          ['Comedy']   ['Adventure', 'Comedy', 'Action']                     ['Documentary']                ['Romance', 'Drama']                     ['Documentary']                     ['Documentary']                ['Romance', 'Drama']        ['Action', 'Drama', 'Crime']                           ['Drama']                ['Action', 'Horror']             ['Adventure', 'Comedy']               ['Drama', 'Thriller']    ['Adventure', 'Comedy', 'Drama']                          ['Comedy']                           ['Drama']       ['Romance', 'Drama', 'Crime']               ['Crime', 'Thriller']   ['Adventure', 'Comedy', 'Action']                ['Romance', 'Drama']                           ['Drama']      ['Drama', 'Crime', 'Thriller']                          ['Comedy']   ['Romance', 'Thriller', 'Horror']    ['Comedy', 'Thriller', 'Horror']                     ['Documentary']                     ['Documentary']                  ['Drama', 'Crime']                          ['Comedy']      ['Comedy', 'Romance', 'Drama']    ['Adventure', 'Action', 'Drama']      ['Comedy', 'Romance', 'Drama']             ['Adventure', 'Comedy']               ['Comedy', 'Romance']     ['Action', 'Crime', 'Thriller']  ['Adventure', 'Comedy', 'Romance']                 ['Action', 'Drama']      ['Comedy', 'Romance', 'Drama']                        ['Thriller']                           ['Drama']                ['Comedy', 'Horror']                           ['Drama']                          ['Comedy']                           ['Drama']                ['Romance', 'Drama']               ['Horror', 'Mystery']   ['Adventure', 'Comedy', 'Horror']                     ['Documentary']            ['Drama', 'Documentary']                           ['Drama']                          ['Horror']                 ['Comedy', 'Drama']                          ['Comedy']              ['Thriller', 'Horror']                     ['Documentary']     ['Drama', 'Thriller', 'Horror']   ['Thriller', 'Horror', 'Mystery']                           ['Drama']       ['Drama', 'Crime', 'Mystery']                  ['Drama', 'Crime']                ['Romance', 'Drama']                     ['Documentary']    ['Adventure', 'Comedy', 'Crime']       ['Comedy', 'Action', 'Drama']                       ['Adventure']                     ['Documentary']                 ['Action', 'Crime']             ['Adventure', 'Comedy']       ['Drama', 'Crime', 'Mystery']           ['Comedy', 'Documentary']                ['Drama', 'Mystery']      ['Comedy', 'Romance', 'Drama']                ['Comedy', 'Horror']       ['Comedy', 'Action', 'Crime']                          ['Comedy']                          ['Horror']             ['Adventure', 'Comedy']                  ['Drama', 'Crime']                     ['Documentary']                        ['Thriller']      ['Action', 'Romance', 'Crime']                     ['Documentary']                       ['Adventure']                 ['Crime', 'Horror']                          ['Horror']                ['Romance', 'Drama']    ['Adventure', 'Comedy', 'Drama']                     ['Documentary']                 ['Comedy', 'Drama']                          ['Horror']                ['Comedy', 'Action']            ['Drama', 'Documentary']                ['Action', 'Horror']               ['Comedy', 'Romance']               ['Drama', 'Thriller']    ['Adventure', 'Action', 'Drama']                 ['Comedy', 'Drama']              ['Thriller', 'Horror']                     ['Documentary']                ['Romance', 'Drama']              ['Thriller', 'Horror']                ['Action', 'Horror']    ['Adventure', 'Comedy', 'Drama']                  ['Drama', 'Crime']                           ['Drama']                           ['Drama']                           ['Drama']              ['Thriller', 'Horror']      ['Comedy', 'Romance', 'Drama']        ['Action', 'Drama', 'Crime']                     ['Documentary']             ['Adventure', 'Action']                ['Romance', 'Drama']                        ['Thriller']              ['Thriller', 'Horror']                     ['Documentary']                           ['Drama']                           ['Drama']                           ['Drama']                  ['Drama', 'Crime']                     ['Documentary']                     ['Documentary']                 ['Comedy', 'Drama']              ['Action', 'Thriller']                  ['Drama', 'Crime']      ['Drama', 'Crime', 'Thriller']                       ['Adventure']     ['Action', 'Drama', 'Thriller']             ['Thriller', 'Mystery']                 ['Comedy', 'Drama']      ['Comedy', 'Drama', 'Mystery']                ['Romance', 'Drama']                          ['Action']              ['Thriller', 'Horror']      ['Comedy', 'Romance', 'Drama']                 ['Comedy', 'Crime']             ['Thriller', 'Mystery']                     ['Documentary']                          ['Horror']                     ['Documentary']                ['Drama', 'Mystery']             ['Adventure', 'Action']             ['Adventure', 'Comedy']                ['Romance', 'Drama']                          ['Comedy']              ['Action', 'Thriller']                ['Romance', 'Drama']               ['Drama', 'Thriller']                          ['Comedy']                     ['Documentary']     ['Romance', 'Drama', 'Mystery']                ['Romance', 'Drama']                           ['Drama']                ['Romance', 'Drama']             ['Adventure', 'Action']                     ['Documentary']               ['Comedy', 'Romance']                           ['Drama']               ['Comedy', 'Romance']                          ['Comedy']               ['Action', 'Mystery']                          ['Action']                           ['Drama']                           ['Drama']                 ['Comedy', 'Drama']                 ['Drama', 'Horror']      ['Drama', 'Crime', 'Thriller']             ['Adventure', 'Comedy']                          ['Horror']           ['Comedy', 'Documentary']                          ['Comedy']               ['Comedy', 'Romance']                          ['Comedy']                ['Romance', 'Drama']        ['Action', 'Drama', 'Crime']                           ['Drama']                     ['Documentary']       ['Comedy', 'Action', 'Crime']        ['Comedy', 'Drama', 'Crime']               ['Comedy', 'Romance']        ['Drama', 'Crime', 'Horror']                          ['Comedy']                 ['Comedy', 'Drama']                 ['Action', 'Drama']     ['Romance', 'Drama', 'Mystery']       ['Comedy', 'Action', 'Crime']                           ['Drama']              ['Thriller', 'Horror']        ['Comedy', 'Drama', 'Crime']                 ['Comedy', 'Drama']              ['Action', 'Thriller']                           ['Drama']                          ['Horror']               ['Drama', 'Thriller']                           ['Drama']                ['Comedy', 'Action']   ['Adventure', 'Action', 'Horror']                 ['Comedy', 'Drama']              ['Thriller', 'Horror']                           ['Drama']                     ['Documentary']                           ['Drama']                 ['Comedy', 'Crime']                          ['Comedy']        ['Action', 'Drama', 'Crime']                     ['Documentary']                  ['Drama', 'Crime']                       ['Adventure']      ['Drama', 'Crime', 'Thriller']            ['Drama', 'Documentary']                           ['Drama']                          ['Comedy']                 ['Action', 'Crime']                  ['Drama', 'Crime']                           ['Drama']              ['Thriller', 'Horror']                          ['Action']                ['Romance', 'Drama']      ['Comedy', 'Romance', 'Drama']              ['Thriller', 'Horror']           ['Comedy', 'Documentary']          ['Romance', 'Documentary']               ['Drama', 'Thriller']                           ['Drama']              ['Thriller', 'Horror']      ['Comedy', 'Action', 'Horror']      ['Comedy', 'Romance', 'Drama']                           ['Drama']     ['Action', 'Crime', 'Thriller']                           ['Drama']                          ['Comedy']                          ['Comedy']      ['Drama', 'Horror', 'Mystery']        ['Action', 'Drama', 'Crime']                           ['Drama']    ['Comedy', 'Romance', 'Mystery']                           ['Drama']                     ['Documentary']              ['Adventure', 'Drama']                          ['Comedy']                ['Romance', 'Drama']                ['Action', 'Horror']                           ['Drama']      ['Drama', 'Crime', 'Thriller']                ['Romance', 'Drama']                ['Romance', 'Drama']                 ['Comedy', 'Drama']                           ['Drama']               ['Drama', 'Thriller']                          ['Horror']                 ['Comedy', 'Drama']              ['Thriller', 'Horror'] ['Adventure', 'Action', 'Documentary']                           ['Drama']     ['Comedy', 'Crime', 'Thriller']       ['Action', 'Drama', 'Horror']                ['Romance', 'Drama']              ['Thriller', 'Horror']                ['Drama', 'Mystery']                     ['Documentary']    ['Adventure', 'Comedy', 'Drama']               ['Action', 'Romance']      ['Action', 'Drama', 'Mystery']                           ['Drama']              ['Action', 'Thriller']               ['Drama', 'Thriller']              ['Thriller', 'Horror']                        ['Thriller']                ['Romance', 'Drama']        ['Action', 'Drama', 'Crime']               ['Comedy', 'Romance']     ['Action', 'Crime', 'Thriller']                     ['Documentary']                     ['Documentary']                  ['Drama', 'Crime']                           ['Drama']              ['Thriller', 'Horror']                     ['Documentary']             ['Adventure', 'Comedy']                ['Romance', 'Drama']              ['Thriller', 'Horror']                           ['Drama']               ['Comedy', 'Romance']                           ['Drama']               ['Comedy', 'Romance']    ['Adventure', 'Action', 'Drama']    ['Adventure', 'Action', 'Drama']             ['Adventure', 'Action']               ['Comedy', 'Romance']                     ['Documentary']                 ['Comedy', 'Drama']       ['Comedy', 'Action', 'Crime']                ['Romance', 'Drama']              ['Thriller', 'Horror']            ['Drama', 'Documentary']               ['Comedy', 'Romance']       ['Comedy', 'Action', 'Crime']                           ['Drama']    ['Crime', 'Thriller', 'Mystery']       ['Romance', 'Drama', 'Crime']                     ['Documentary']                     ['Documentary']                 ['Comedy', 'Drama']                           ['Drama']                          ['Comedy']                          ['Action']             ['Adventure', 'Action']                ['Comedy', 'Action']                           ['Drama'] ['Adventure', 'Action', 'Thriller']       ['Comedy', 'Action', 'Crime']        ['Action', 'Drama', 'Crime']                ['Comedy', 'Horror']                ['Romance', 'Drama']                     ['Documentary']        ['Action', 'Drama', 'Crime']                ['Romance', 'Drama']                           ['Drama']                          ['Horror']                ['Romance', 'Drama']      ['Action', 'Drama', 'Mystery']                          ['Comedy']               ['Comedy', 'Romance']\n"
          ],
          "name": "stdout"
        }
      ]
    },
    {
      "cell_type": "code",
      "metadata": {
        "id": "9Qi6RAW7Fx2w"
      },
      "source": [
        "def imshow(img):\n",
        "    # npimg = np.transpose(img, (1, 2, 0))\n",
        "    plt.imshow(img)\n",
        "    plt.show()\n",
        "\n",
        "net.eval()\n",
        "dataiter = iter(demoloader2)\n",
        "posterId, input, label = dataiter.next()\n",
        "input = input.to(device)\n",
        "label = label.to(device)\n",
        "\n",
        "with torch.no_grad():\n",
        "    output = torch.sigmoid(net(input))[0] * 100\n",
        "\n",
        "imshow(imageDict[posterId[0]])\n",
        "print('Predicted: ', ' '.join(f'%35s' % [classes[i] for i, x in enumerate(output.tolist())]))\n",
        "print('GroundTruth: ', [classes[idx] for idx, elem in enumerate(label.tolist()[0] if elem == 1]))"
      ],
      "execution_count": null,
      "outputs": []
    },
    {
      "cell_type": "code",
      "metadata": {
        "id": "3LKWACfJH8iw"
      },
      "source": [
        ""
      ],
      "execution_count": null,
      "outputs": []
    }
  ]
}